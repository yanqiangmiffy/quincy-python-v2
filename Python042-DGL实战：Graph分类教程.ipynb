{
 "cells": [
  {
   "cell_type": "markdown",
   "metadata": {},
   "source": [
    "## 简单的图分类任务\n",
    "在本教程中，我们将学习如何使用 DGL 执行图分类，这个例子的任务目标就是对下面显示的八种拓扑类型Grpah进行分类。\n",
    "![](https://data.dgl.ai/tutorial/batch/dataset_overview.png)"
   ]
  },
  {
   "cell_type": "markdown",
   "metadata": {},
   "source": [
    "这里我们直接使用 DGL 中合成数据集 `data.MiniGCDataset`。数据集有八种不同类型的图，每个类都有相同数量的图样本"
   ]
  },
  {
   "cell_type": "code",
   "execution_count": 1,
   "metadata": {},
   "outputs": [
    {
     "name": "stderr",
     "output_type": "stream",
     "text": [
      "Using backend: pytorch\n"
     ]
    },
    {
     "data": {
      "image/png": "[encoded data removed]",
      "text/plain": [
       "<Figure size 432x288 with 1 Axes>"
      ]
     },
     "metadata": {},
     "output_type": "display_data"
    }
   ],
   "source": [
    "from dgl.data import MiniGCDataset\n",
    "import matplotlib.pyplot as plt\n",
    "import networkx as nx\n",
    "# A dataset with 80 samples, each graph is\n",
    "# of size [10, 20]\n",
    "dataset = MiniGCDataset(80, 10, 20)\n",
    "graph, label = dataset[0]\n",
    "fig, ax = plt.subplots()\n",
    "nx.draw(graph.to_networkx(), ax=ax)\n",
    "ax.set_title('Class: {:d}'.format(label))\n",
    "plt.show()"
   ]
  },
  {
   "cell_type": "markdown",
   "metadata": {},
   "source": [
    " 创建graph的批数据"
   ]
  },
  {
   "cell_type": "markdown",
   "metadata": {},
   "source": [
    "![](https://data.dgl.ai/tutorial/batch/batch.png)"
   ]
  },
  {
   "cell_type": "code",
   "execution_count": 6,
   "metadata": {},
   "outputs": [],
   "source": [
    "import dgl\n",
    "import torch\n",
    "\n",
    "def collate(samples):\n",
    "    # The input `samples` is a list of pairs\n",
    "    #  (graph, label).\n",
    "    graphs, labels = map(list, zip(*samples))\n",
    "    batched_graph = dgl.batch(graphs)\n",
    "    return batched_graph, torch.tensor(labels,dtype=torch.long)"
   ]
  },
  {
   "cell_type": "markdown",
   "metadata": {},
   "source": [
    "构建Graph分类器 "
   ]
  },
  {
   "cell_type": "markdown",
   "metadata": {},
   "source": [
    "![](https://data.dgl.ai/tutorial/batch/graph_classifier.png)"
   ]
  },
  {
   "cell_type": "code",
   "execution_count": 7,
   "metadata": {},
   "outputs": [],
   "source": [
    "from dgl.nn.pytorch import GraphConv\n",
    "import torch.nn as nn\n",
    "import torch.nn.functional as F\n",
    "\n",
    "class Classifier(nn.Module):\n",
    "    def __init__(self, in_dim, hidden_dim, n_classes):\n",
    "        super(Classifier, self).__init__()\n",
    "        self.conv1 = GraphConv(in_dim, hidden_dim)\n",
    "        self.conv2 = GraphConv(hidden_dim, hidden_dim)\n",
    "        self.classify = nn.Linear(hidden_dim, n_classes)\n",
    "\n",
    "    def forward(self, g):\n",
    "        # Use node degree as the initial node feature. For undirected graphs, the in-degree\n",
    "        # is the same as the out_degree.\n",
    "        h = g.in_degrees().view(-1, 1).float()\n",
    "        # Perform graph convolution and activation function.\n",
    "        h = F.relu(self.conv1(g, h))\n",
    "        h = F.relu(self.conv2(g, h))\n",
    "        g.ndata['h'] = h\n",
    "        # Calculate graph representation by averaging all the node representations.\n",
    "        hg = dgl.mean_nodes(g, 'h')\n",
    "        return self.classify(hg)"
   ]
  },
  {
   "cell_type": "code",
   "execution_count": 8,
   "metadata": {
    "scrolled": false
   },
   "outputs": [
    {
     "name": "stdout",
     "output_type": "stream",
     "text": [
      "Epoch 0, loss 2.0010\n",
      "Epoch 1, loss 1.9744\n",
      "Epoch 2, loss 1.9551\n",
      "Epoch 3, loss 1.9444\n",
      "Epoch 4, loss 1.9318\n",
      "Epoch 5, loss 1.9170\n",
      "Epoch 6, loss 1.8928\n",
      "Epoch 7, loss 1.8573\n",
      "Epoch 8, loss 1.8212\n",
      "Epoch 9, loss 1.7715\n",
      "Epoch 10, loss 1.7152\n",
      "Epoch 11, loss 1.6570\n",
      "Epoch 12, loss 1.5885\n",
      "Epoch 13, loss 1.5308\n",
      "Epoch 14, loss 1.4719\n",
      "Epoch 15, loss 1.4158\n",
      "Epoch 16, loss 1.3515\n",
      "Epoch 17, loss 1.2963\n",
      "Epoch 18, loss 1.2417\n",
      "Epoch 19, loss 1.1978\n",
      "Epoch 20, loss 1.1698\n",
      "Epoch 21, loss 1.1086\n",
      "Epoch 22, loss 1.0780\n",
      "Epoch 23, loss 1.0459\n",
      "Epoch 24, loss 1.0192\n",
      "Epoch 25, loss 1.0017\n",
      "Epoch 26, loss 1.0297\n",
      "Epoch 27, loss 0.9784\n",
      "Epoch 28, loss 0.9486\n",
      "Epoch 29, loss 0.9327\n",
      "Epoch 30, loss 0.9133\n",
      "Epoch 31, loss 0.9265\n",
      "Epoch 32, loss 0.9177\n",
      "Epoch 33, loss 0.9303\n",
      "Epoch 34, loss 0.8666\n",
      "Epoch 35, loss 0.8639\n",
      "Epoch 36, loss 0.8474\n",
      "Epoch 37, loss 0.8858\n",
      "Epoch 38, loss 0.8393\n",
      "Epoch 39, loss 0.8306\n",
      "Epoch 40, loss 0.8204\n",
      "Epoch 41, loss 0.8057\n",
      "Epoch 42, loss 0.7998\n",
      "Epoch 43, loss 0.7909\n",
      "Epoch 44, loss 0.7840\n",
      "Epoch 45, loss 0.7807\n",
      "Epoch 46, loss 0.7882\n",
      "Epoch 47, loss 0.7701\n",
      "Epoch 48, loss 0.7612\n",
      "Epoch 49, loss 0.7563\n",
      "Epoch 50, loss 0.7430\n",
      "Epoch 51, loss 0.7354\n",
      "Epoch 52, loss 0.7357\n",
      "Epoch 53, loss 0.7326\n",
      "Epoch 54, loss 0.7249\n",
      "Epoch 55, loss 0.7181\n",
      "Epoch 56, loss 0.7146\n",
      "Epoch 57, loss 0.7306\n",
      "Epoch 58, loss 0.7143\n",
      "Epoch 59, loss 0.7018\n",
      "Epoch 60, loss 0.7130\n",
      "Epoch 61, loss 0.7003\n",
      "Epoch 62, loss 0.6977\n",
      "Epoch 63, loss 0.7120\n",
      "Epoch 64, loss 0.6979\n",
      "Epoch 65, loss 0.7370\n",
      "Epoch 66, loss 0.7223\n",
      "Epoch 67, loss 0.6980\n",
      "Epoch 68, loss 0.6891\n",
      "Epoch 69, loss 0.6715\n",
      "Epoch 70, loss 0.6736\n",
      "Epoch 71, loss 0.6709\n",
      "Epoch 72, loss 0.6583\n",
      "Epoch 73, loss 0.6717\n",
      "Epoch 74, loss 0.6683\n",
      "Epoch 75, loss 0.6656\n",
      "Epoch 76, loss 0.6477\n",
      "Epoch 77, loss 0.6414\n",
      "Epoch 78, loss 0.6442\n",
      "Epoch 79, loss 0.6398\n"
     ]
    }
   ],
   "source": [
    "import torch.optim as optim\n",
    "from torch.utils.data import DataLoader\n",
    "\n",
    "# Create training and test sets.\n",
    "trainset = MiniGCDataset(320, 10, 20)\n",
    "testset = MiniGCDataset(80, 10, 20)\n",
    "# Use PyTorch's DataLoader and the collate function\n",
    "# defined before.\n",
    "data_loader = DataLoader(trainset, batch_size=32, shuffle=True,\n",
    "                         collate_fn=collate)\n",
    "\n",
    "# Create model\n",
    "model = Classifier(1, 256, trainset.num_classes)\n",
    "loss_func = nn.CrossEntropyLoss()\n",
    "optimizer = optim.Adam(model.parameters(), lr=0.001)\n",
    "model.train()\n",
    "\n",
    "epoch_losses = []\n",
    "for epoch in range(80):\n",
    "    epoch_loss = 0\n",
    "    for iter, (bg, label) in enumerate(data_loader):\n",
    "        prediction = model(bg)\n",
    "        loss = loss_func(prediction, label)\n",
    "        optimizer.zero_grad()\n",
    "        loss.backward()\n",
    "        optimizer.step()\n",
    "        epoch_loss += loss.detach().item()\n",
    "    epoch_loss /= (iter + 1)\n",
    "    print('Epoch {}, loss {:.4f}'.format(epoch, epoch_loss))\n",
    "    epoch_losses.append(epoch_loss)"
   ]
  },
  {
   "cell_type": "code",
   "execution_count": 9,
   "metadata": {},
   "outputs": [
    {
     "data": {
      "image/png": "[encoded data removed]",
      "text/plain": [
       "<Figure size 432x288 with 1 Axes>"
      ]
     },
     "metadata": {
      "needs_background": "light"
     },
     "output_type": "display_data"
    }
   ],
   "source": [
    "plt.title('cross entropy averaged over minibatches')\n",
    "plt.plot(epoch_losses)\n",
    "plt.show()"
   ]
  },
  {
   "cell_type": "code",
   "execution_count": 10,
   "metadata": {},
   "outputs": [
    {
     "name": "stdout",
     "output_type": "stream",
     "text": [
      "Accuracy of sampled predictions on the test set: 58.7500%\n",
      "Accuracy of argmax predictions on the test set: 62.500000%\n"
     ]
    }
   ],
   "source": [
    "model.eval()\n",
    "# Convert a list of tuples to two lists\n",
    "test_X, test_Y = map(list, zip(*testset))\n",
    "test_bg = dgl.batch(test_X)\n",
    "test_Y = torch.tensor(test_Y).float().view(-1, 1)\n",
    "probs_Y = torch.softmax(model(test_bg), 1)\n",
    "sampled_Y = torch.multinomial(probs_Y, 1)\n",
    "argmax_Y = torch.max(probs_Y, 1)[1].view(-1, 1)\n",
    "print('Accuracy of sampled predictions on the test set: {:.4f}%'.format(\n",
    "    (test_Y == sampled_Y.float()).sum().item() / len(test_Y) * 100))\n",
    "print('Accuracy of argmax predictions on the test set: {:4f}%'.format(\n",
    "    (test_Y == argmax_Y.float()).sum().item() / len(test_Y) * 100))"
   ]
  },
  {
   "cell_type": "code",
   "execution_count": null,
   "metadata": {},
   "outputs": [],
   "source": []
  }
 ],
 "metadata": {
  "kernelspec": {
   "display_name": "Python 3",
   "language": "python",
   "name": "python3"
  },
  "language_info": {
   "codemirror_mode": {
    "name": "ipython",
    "version": 3
   },
   "file_extension": ".py",
   "mimetype": "text/x-python",
   "name": "python",
   "nbconvert_exporter": "python",
   "pygments_lexer": "ipython3",
   "version": "3.7.6"
  }
 },
 "nbformat": 4,
 "nbformat_minor": 4
}
