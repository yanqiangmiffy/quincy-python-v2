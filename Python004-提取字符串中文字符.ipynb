{
 "cells": [
  {
   "cell_type": "markdown",
   "metadata": {},
   "source": [
    "写这个jupyter的原因是好几次自己爬完新闻之后，发现中间有些是html标签代码或者其他多余的英文字符，自己也不想保留，那么这时候一个暴力简单的方法就是使用 unicode 范围 \\u4e00 - \\u9fff 来判别汉字\n",
    "\n",
    "unicode 分配给汉字（中日韩越统一表意文字）的范围为 4E00-9FFF \n",
    "（目前 unicode 6.3 的标准已定义到 9FCC ）"
   ]
  },
  {
   "cell_type": "code",
   "execution_count": 7,
   "metadata": {},
   "outputs": [],
   "source": [
    "# 判断字符是否全是中文\n",
    "def ishan(text):\n",
    "    # for python 3.x\n",
    "    # sample: ishan('一') == True, ishan('我&&你') == False\n",
    "    return all('\\u4e00' <= char <= '\\u9fff' for char in text)"
   ]
  },
  {
   "cell_type": "code",
   "execution_count": 6,
   "metadata": {},
   "outputs": [
    {
     "data": {
      "text/plain": [
       "False"
      ]
     },
     "execution_count": 6,
     "metadata": {},
     "output_type": "execute_result"
    }
   ],
   "source": [
    "ishan(\"asas112中国\")"
   ]
  },
  {
   "cell_type": "code",
   "execution_count": 13,
   "metadata": {},
   "outputs": [
    {
     "data": {
      "text/plain": [
       "'任命的资本成立于年是'"
      ]
     },
     "execution_count": 13,
     "metadata": {},
     "output_type": "execute_result"
    }
   ],
   "source": [
    "# 提取中文字符\n",
    "import re\n",
    "def extract_chinese(txt):\n",
    "    pattern = re.compile(\"[\\u4e00-\\u9fa5]\")\n",
    "    return \"\".join(pattern.findall(txt))\n",
    "extract_chinese(\"任命的。</p> <p>3G资本成立于2004年，是\")"
   ]
  },
  {
   "cell_type": "markdown",
   "metadata": {},
   "source": [
    "还有一个是过滤HTML标签的强大工具\n",
    "\n",
    "HTMLParser"
   ]
  },
  {
   "cell_type": "code",
   "execution_count": 14,
   "metadata": {},
   "outputs": [],
   "source": [
    "from html.parser import HTMLParser\n",
    "def strip_tags(html):\n",
    "    \"\"\"\n",
    "    Python中过滤HTML标签的函数\n",
    "    >>> str_text=strip_tags(\"<font color=red>hello</font>\")\n",
    "    >>> print str_text\n",
    "    hello\n",
    "    \"\"\"\n",
    "    html = html.strip()\n",
    "    html = html.strip(\"\\n\")\n",
    "\n",
    "    result = []\n",
    "    parser = HTMLParser()\n",
    "    parser.handle_data = result.append\n",
    "    parser.feed(html)\n",
    "    parser.close()\n",
    "    result=''.join(result)\n",
    "    result = result.replace(\"\\n\", \"\")\n",
    "    return result"
   ]
  },
  {
   "cell_type": "code",
   "execution_count": 15,
   "metadata": {},
   "outputs": [
    {
     "data": {
      "text/plain": [
       "'hello'"
      ]
     },
     "execution_count": 15,
     "metadata": {},
     "output_type": "execute_result"
    }
   ],
   "source": [
    "strip_tags(\"<font color=red>hello</font>\")"
   ]
  }
 ],
 "metadata": {
  "kernelspec": {
   "display_name": "Python 3",
   "language": "python",
   "name": "python3"
  },
  "language_info": {
   "codemirror_mode": {
    "name": "ipython",
    "version": 3
   },
   "file_extension": ".py",
   "mimetype": "text/x-python",
   "name": "python",
   "nbconvert_exporter": "python",
   "pygments_lexer": "ipython3",
   "version": "3.6.5"
  }
 },
 "nbformat": 4,
 "nbformat_minor": 2
}
