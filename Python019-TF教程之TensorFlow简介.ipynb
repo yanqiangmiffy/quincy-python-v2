{
 "cells": [
  {
   "cell_type": "markdown",
   "metadata": {},
   "source": [
    "来源书籍：Natural-Language-Processing-with-TensorFlow"
   ]
  },
  {
   "cell_type": "markdown",
   "metadata": {},
   "source": [
    "## 导入库"
   ]
  },
  {
   "cell_type": "code",
   "execution_count": 4,
   "metadata": {},
   "outputs": [],
   "source": [
    "import tensorflow as tf\n",
    "import numpy as np\n",
    "import os\n",
    "import matplotlib.pyplot as plt\n",
    "import logging\n",
    "%matplotlib inline\n",
    "os.environ['TF_CPP_MIN_LOG_LEVEL'] = '3'\n",
    "logging.getLogger(\"tensorflow\").setLevel(logging.ERROR)"
   ]
  },
  {
   "cell_type": "markdown",
   "metadata": {},
   "source": [
    "## 通过placeholder传递输入\n",
    "sigmoid实例"
   ]
  },
  {
   "cell_type": "code",
   "execution_count": 11,
   "metadata": {},
   "outputs": [
    {
     "name": "stdout",
     "output_type": "stream",
     "text": [
      "[[0.4941275  0.51278746 0.49341637 0.5056394  0.50781184]]\n"
     ]
    }
   ],
   "source": [
    "# 定义graph和session\n",
    "graph = tf.Graph() # 创建图\n",
    "session = tf.InteractiveSession(graph=graph) # 创建会话\n",
    "\n",
    "# 构建图\n",
    "# 创建占位符placeholder\n",
    "x=tf.placeholder(shape=[1,10],dtype=tf.float32,name='x')\n",
    "# 变量 W\n",
    "W=tf.Variable(tf.random_uniform(shape=[10,5],minval=-0.1,maxval=0.1,dtype=tf.float32),name='W')\n",
    "# 变量 b\n",
    "b=tf.Variable(tf.zeros(shape=[5],dtype=tf.float32),name='b')\n",
    "\n",
    "h=tf.nn.sigmoid(tf.matmul(x,W)+b) # sigmoid运算\n",
    "#\n",
    "tf.global_variables_initializer().run() # 初始化全局变量\n",
    "\n",
    "# 传给x值\n",
    "h_eval=session.run(h,feed_dict={x:np.random.rand(1,10)})\n",
    "print(h_eval)\n",
    "session.close()"
   ]
  },
  {
   "cell_type": "markdown",
   "metadata": {},
   "source": [
    "## 通过TensorFlow 张量传递输入"
   ]
  },
  {
   "cell_type": "code",
   "execution_count": 10,
   "metadata": {},
   "outputs": [
    {
     "name": "stdout",
     "output_type": "stream",
     "text": [
      "[[0.5038708  0.51638865 0.48006743 0.49199152 0.461249  ]]\n"
     ]
    }
   ],
   "source": [
    "# 定义图\n",
    "graph=tf.Graph()\n",
    "session=tf.InteractiveSession(graph=graph)\n",
    "\n",
    "# 构建图\n",
    "\n",
    "# 声明x并赋值,\n",
    "x=tf.constant(value=[[0.1,0.2,0.3,0.4,0.5,0.6,0.7,0.8,0.9,1.0]],dtype=tf.float32,name='x')\n",
    "\n",
    "# 变量 W\n",
    "W=tf.Variable(tf.random_uniform(shape=[10,5],minval=-0.1,maxval=0.1,dtype=tf.float32),name='W')\n",
    "# 变量 b\n",
    "b=tf.Variable(tf.zeros(shape=[5],dtype=tf.float32),name='b')\n",
    "\n",
    "h=tf.nn.sigmoid(tf.matmul(x,W)+b) # 计算\n",
    "\n",
    "# 初始化变量\n",
    "tf.global_variables_initializer().run()\n",
    "\n",
    "# 直接计算\n",
    "h_eval=session.run(h)\n",
    "print(h_eval)\n",
    "\n",
    "# 关闭会话\n",
    "session.close()"
   ]
  },
  {
   "cell_type": "markdown",
   "metadata": {},
   "source": [
    "## 创建 Tensorflow Pipeline"
   ]
  },
  {
   "cell_type": "code",
   "execution_count": 14,
   "metadata": {},
   "outputs": [],
   "source": [
    "# 定义图和会话\n",
    "graph=tf.Graph()\n",
    "session=tf.InteractiveSession(graph=graph)\n",
    "\n",
    "# 文件\n",
    "filenames=['data/19/test%d.txt' %i for i in range(1,4)]\n",
    "filename_queue=tf.train.string_input_producer(filenames,capacity=3,shuffle=True,name='string_input_producer')"
   ]
  },
  {
   "cell_type": "code",
   "execution_count": 15,
   "metadata": {},
   "outputs": [
    {
     "name": "stdout",
     "output_type": "stream",
     "text": [
      "File data/19/test1.txt found.\n",
      "File data/19/test2.txt found.\n",
      "File data/19/test3.txt found.\n"
     ]
    }
   ],
   "source": [
    "# 检查文件是否存在\n",
    "for f in filenames:\n",
    "    if not tf.gfile.Exists(f):\n",
    "        raise ValueError('Failed to find file: ' + f)\n",
    "    else:\n",
    "        print('File %s found.'%f)"
   ]
  },
  {
   "cell_type": "code",
   "execution_count": 18,
   "metadata": {},
   "outputs": [],
   "source": [
    "reader=tf.TextLineReader()\n",
    "key, value = reader.read(filename_queue, name='text_read_op')\n",
    "\n",
    "# 默认值\n",
    "record_defaults = [[-1.0], [-1.0], [-1.0], [-1.0], [-1.0], [-1.0], [-1.0], [-1.0], [-1.0], [-1.0]]\n",
    "col1, col2, col3, col4, col5, col6, col7, col8, col9, col10 = tf.decode_csv(value, record_defaults=record_defaults)\n",
    "features = tf.stack([col1, col2, col3, col4, col5, col6, col7, col8, col9, col10])\n",
    "\n",
    "x = tf.train.shuffle_batch([features], batch_size=3,\n",
    "                           capacity=5, name='data_batch', \n",
    "                           min_after_dequeue=1,num_threads=1)\n",
    "\n",
    "coord = tf.train.Coordinator()\n",
    "threads = tf.train.start_queue_runners(coord=coord, sess=session)"
   ]
  },
  {
   "cell_type": "code",
   "execution_count": 21,
   "metadata": {},
   "outputs": [
    {
     "name": "stdout",
     "output_type": "stream",
     "text": [
      "========== Step 0 ==========\n",
      "Evaluated data (x)\n",
      "[[0.1 0.1 0.1 0.1 0.1 0.1 0.1 0.1 0.1 0.1]\n",
      " [0.1 0.1 0.1 0.1 0.1 0.1 0.1 0.1 0.1 0.1]\n",
      " [0.1 0.1 0.1 0.1 0.1 0.1 0.1 0.1 0.1 0.1]]\n",
      "Evaluated data (h)\n",
      "[[0.5049817  0.49255627 0.5058895  0.50510323 0.50227076]\n",
      " [0.5049817  0.49255627 0.5058895  0.50510323 0.5022707 ]\n",
      " [0.50498176 0.4925563  0.5058895  0.50510323 0.5022707 ]]\n",
      "\n",
      "========== Step 1 ==========\n",
      "Evaluated data (x)\n",
      "[[0.1 0.1 0.1 0.1 0.1 0.1 0.1 0.1 0.1 0.1]\n",
      " [1.  0.9 0.8 0.7 0.6 0.5 0.4 0.3 0.2 0.1]\n",
      " [0.1 0.1 0.1 0.1 0.1 0.1 0.1 0.1 0.1 0.1]]\n",
      "Evaluated data (h)\n",
      "[[0.5049817  0.49255627 0.5058895  0.50510323 0.50227076]\n",
      " [0.5438934  0.44402477 0.5267701  0.5240376  0.50090057]\n",
      " [0.50498176 0.4925563  0.5058895  0.50510323 0.5022707 ]]\n",
      "\n",
      "========== Step 2 ==========\n",
      "Evaluated data (x)\n",
      "[[1.  0.9 0.8 0.7 0.6 0.5 0.4 0.3 0.2 0.1]\n",
      " [1.  0.9 0.8 0.7 0.6 0.5 0.4 0.3 0.2 0.1]\n",
      " [1.  0.9 0.8 0.7 0.6 0.5 0.4 0.3 0.2 0.1]]\n",
      "Evaluated data (h)\n",
      "[[0.5438934  0.44402477 0.5267701  0.52403754 0.50090057]\n",
      " [0.5438934  0.44402477 0.5267701  0.5240376  0.50090057]\n",
      " [0.5438934  0.44402474 0.5267701  0.5240376  0.50090057]]\n",
      "\n",
      "========== Step 3 ==========\n",
      "Evaluated data (x)\n",
      "[[0.1 0.2 0.3 0.4 0.5 0.6 0.7 0.8 0.9 1. ]\n",
      " [1.  0.9 0.8 0.7 0.6 0.5 0.4 0.3 0.2 0.1]\n",
      " [0.1 0.2 0.3 0.4 0.5 0.6 0.7 0.8 0.9 1. ]]\n",
      "Evaluated data (h)\n",
      "[[0.5107923  0.4743464  0.53791875 0.5320375  0.52405906]\n",
      " [0.5438934  0.44402477 0.5267701  0.5240376  0.50090057]\n",
      " [0.5107924  0.47434637 0.53791875 0.53203744 0.52405906]]\n",
      "\n",
      "========== Step 4 ==========\n",
      "Evaluated data (x)\n",
      "[[0.1 0.2 0.3 0.4 0.5 0.6 0.7 0.8 0.9 1. ]\n",
      " [0.1 0.2 0.3 0.4 0.5 0.6 0.7 0.8 0.9 1. ]\n",
      " [0.1 0.2 0.3 0.4 0.5 0.6 0.7 0.8 0.9 1. ]]\n",
      "Evaluated data (h)\n",
      "[[0.5107923  0.4743464  0.53791875 0.5320375  0.52405906]\n",
      " [0.5107923  0.4743464  0.53791875 0.53203744 0.52405906]\n",
      " [0.5107924  0.47434637 0.53791875 0.53203744 0.52405906]]\n",
      "\n"
     ]
    }
   ],
   "source": [
    "W = tf.Variable(tf.random_uniform(shape=[10,5], minval=-0.1, maxval=0.1, dtype=tf.float32),name='W') \n",
    "b = tf.Variable(tf.zeros(shape=[5],dtype=tf.float32),name='b') \n",
    "h = tf.nn.sigmoid(tf.matmul(x,W) + b)\n",
    "tf.global_variables_initializer().run()\n",
    "for step in range(5):\n",
    "    x_eval, h_eval = session.run([x,h]) \n",
    "    print('========== Step %d =========='%step)\n",
    "    print('Evaluated data (x)')\n",
    "    print(x_eval)\n",
    "    print('Evaluated data (h)')\n",
    "    print(h_eval)\n",
    "    print('')\n",
    "\n",
    "coord.request_stop()\n",
    "coord.join(threads)\n",
    "session.close()"
   ]
  },
  {
   "cell_type": "markdown",
   "metadata": {},
   "source": [
    "## TF实现损失函数\n",
    "- MSE\n",
    "- Cross Entropy Loss"
   ]
  },
  {
   "cell_type": "code",
   "execution_count": 25,
   "metadata": {},
   "outputs": [
    {
     "name": "stdout",
     "output_type": "stream",
     "text": [
      "MSE Loss:  2.0\n",
      "CE Loss:  0.08775769\n"
     ]
    }
   ],
   "source": [
    "# 定义图和会话\n",
    "graph=tf.Graph()\n",
    "session=tf.InteractiveSession(graph=graph)\n",
    "\n",
    "x=tf.constant([[2,4],[6,8]],dtype=tf.float32)\n",
    "x_hat=tf.constant([[3,5],[7,9]],dtype=tf.float32)\n",
    "# MSE=（1**2+1**2+1**2+1**2）/2\n",
    "MSE=tf.nn.l2_loss(x_hat-x)\n",
    "\n",
    "# cross_entropy with logits \n",
    "y=tf.constant([[1,0],[0,1]],dtype=tf.float32)\n",
    "y_hat=tf.constant([[3,1],[2,5]],dtype=tf.float32)\n",
    "\n",
    "CE=tf.reduce_mean(tf.nn.softmax_cross_entropy_with_logits_v2(logits=y_hat,labels=y))\n",
    "\n",
    "print('MSE Loss: ',session.run(MSE))\n",
    "print('CE Loss: ',session.run(CE))\n",
    "session.close()"
   ]
  },
  {
   "cell_type": "code",
   "execution_count": null,
   "metadata": {},
   "outputs": [],
   "source": []
  }
 ],
 "metadata": {
  "kernelspec": {
   "display_name": "Python 3",
   "language": "python",
   "name": "python3"
  },
  "language_info": {
   "codemirror_mode": {
    "name": "ipython",
    "version": 3
   },
   "file_extension": ".py",
   "mimetype": "text/x-python",
   "name": "python",
   "nbconvert_exporter": "python",
   "pygments_lexer": "ipython3",
   "version": "3.7.3"
  }
 },
 "nbformat": 4,
 "nbformat_minor": 2
}
