{
 "cells": [
  {
   "cell_type": "markdown",
   "metadata": {},
   "source": [
    "来源书籍：Natural-Language-Processing-with-TensorFlow"
   ]
  },
  {
   "cell_type": "markdown",
   "metadata": {},
   "source": [
    "## 导入库"
   ]
  },
  {
   "cell_type": "code",
   "execution_count": 7,
   "metadata": {},
   "outputs": [],
   "source": [
    "import tensorflow as tf\n",
    "import numpy as np\n",
    "import os\n",
    "import matplotlib.pyplot as plt\n",
    "import logging\n",
    "%matplotlib inline\n",
    "os.environ['TF_CPP_MIN_LOG_LEVEL'] = '3'\n",
    "logging.getLogger(\"tensorflow\").setLevel(logging.ERROR)"
   ]
  },
  {
   "cell_type": "markdown",
   "metadata": {},
   "source": [
    "## 通过placeholder传递输入\n",
    "sigmoid实例"
   ]
  },
  {
   "cell_type": "code",
   "execution_count": 11,
   "metadata": {},
   "outputs": [
    {
     "name": "stdout",
     "output_type": "stream",
     "text": [
      "[[0.4941275  0.51278746 0.49341637 0.5056394  0.50781184]]\n"
     ]
    }
   ],
   "source": [
    "# 定义graph和session\n",
    "graph = tf.Graph() # 创建图\n",
    "session = tf.InteractiveSession(graph=graph) # 创建会话\n",
    "\n",
    "# 构建图\n",
    "# 创建占位符placeholder\n",
    "x=tf.placeholder(shape=[1,10],dtype=tf.float32,name='x')\n",
    "# 变量 W\n",
    "W=tf.Variable(tf.random_uniform(shape=[10,5],minval=-0.1,maxval=0.1,dtype=tf.float32),name='W')\n",
    "# 变量 b\n",
    "b=tf.Variable(tf.zeros(shape=[5],dtype=tf.float32),name='b')\n",
    "\n",
    "h=tf.nn.sigmoid(tf.matmul(x,W)+b) # sigmoid运算\n",
    "#\n",
    "tf.global_variables_initializer().run() # 初始化全局变量\n",
    "\n",
    "# 传给x值\n",
    "h_eval=session.run(h,feed_dict={x:np.random.rand(1,10)})\n",
    "print(h_eval)\n",
    "session.close()"
   ]
  },
  {
   "cell_type": "markdown",
   "metadata": {},
   "source": [
    "## 通过TensorFlow 张量传递输入"
   ]
  },
  {
   "cell_type": "code",
   "execution_count": null,
   "metadata": {},
   "outputs": [],
   "source": [
    "# 定义图\n",
    "graph=tf.Graph()\n",
    "session=tf.InteractiveSession(graph=graph)\n",
    "\n",
    "# 构建图\n"
   ]
  },
  {
   "cell_type": "code",
   "execution_count": null,
   "metadata": {},
   "outputs": [],
   "source": []
  }
 ],
 "metadata": {
  "kernelspec": {
   "display_name": "Python 3",
   "language": "python",
   "name": "python3"
  },
  "language_info": {
   "codemirror_mode": {
    "name": "ipython",
    "version": 3
   },
   "file_extension": ".py",
   "mimetype": "text/x-python",
   "name": "python",
   "nbconvert_exporter": "python",
   "pygments_lexer": "ipython3",
   "version": "3.7.3"
  }
 },
 "nbformat": 4,
 "nbformat_minor": 2
}
