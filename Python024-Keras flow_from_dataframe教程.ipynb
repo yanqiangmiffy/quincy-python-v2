{
 "cells": [
  {
   "cell_type": "code",
   "execution_count": 8,
   "metadata": {},
   "outputs": [],
   "source": [
    "# https://medium.com/@vijayabhaskar96/tutorial-on-keras-flow-from-dataframe-1fd4493d237c"
   ]
  },
  {
   "cell_type": "code",
   "execution_count": 1,
   "metadata": {},
   "outputs": [
    {
     "name": "stderr",
     "output_type": "stream",
     "text": [
      "Using TensorFlow backend.\n"
     ]
    }
   ],
   "source": [
    "from keras.models import Sequential\n",
    "#Import from keras_preprocessing not from keras.preprocessing\n",
    "from keras_preprocessing.image import ImageDataGenerator\n",
    "from keras.layers import Dense, Activation, Flatten, Dropout, BatchNormalization\n",
    "from keras.layers import Conv2D, MaxPooling2D\n",
    "from keras import regularizers, optimizers\n",
    "import pandas as pd\n",
    "import numpy as np"
   ]
  },
  {
   "cell_type": "code",
   "execution_count": 2,
   "metadata": {},
   "outputs": [],
   "source": [
    "def append_ext(fn):\n",
    "    return fn+\".png\"\n",
    "base_path='data/024/'\n",
    "traindf=pd.read_csv(base_path+\"trainLabels.csv\",dtype=str)\n",
    "testdf=pd.read_csv(base_path+\"sampleSubmission.csv\",dtype=str)\n",
    "traindf[\"id\"]=traindf[\"id\"].apply(append_ext)\n",
    "testdf[\"id\"]=testdf[\"id\"].apply(append_ext)\n",
    "datagen=ImageDataGenerator(rescale=1./255.,validation_split=0.25)"
   ]
  },
  {
   "cell_type": "code",
   "execution_count": 3,
   "metadata": {},
   "outputs": [
    {
     "name": "stdout",
     "output_type": "stream",
     "text": [
      "Found 37500 validated image filenames belonging to 10 classes.\n",
      "Found 12500 validated image filenames belonging to 10 classes.\n",
      "Found 300000 validated image filenames.\n"
     ]
    }
   ],
   "source": [
    "train_generator = datagen.flow_from_dataframe(\n",
    "    dataframe=traindf,\n",
    "    directory=base_path+\"train/\",\n",
    "    x_col=\"id\",\n",
    "    y_col=\"label\",\n",
    "    subset=\"training\",\n",
    "    batch_size=32,\n",
    "    seed=42,\n",
    "    shuffle=True,\n",
    "    class_mode=\"categorical\",\n",
    "    target_size=(32, 32))\n",
    "valid_generator = datagen.flow_from_dataframe(\n",
    "    dataframe=traindf,\n",
    "    directory=base_path+\"train/\",\n",
    "    x_col=\"id\",\n",
    "    y_col=\"label\",\n",
    "    subset=\"validation\",\n",
    "    batch_size=32,\n",
    "    seed=42,\n",
    "    shuffle=True,\n",
    "    class_mode=\"categorical\",\n",
    "    target_size=(32, 32))\n",
    "test_datagen = ImageDataGenerator(rescale=1. / 255.)\n",
    "test_generator = test_datagen.flow_from_dataframe(\n",
    "    dataframe=testdf,\n",
    "    directory=base_path+\"test/\",\n",
    "    x_col=\"id\",\n",
    "    y_col=None,\n",
    "    batch_size=32,\n",
    "    seed=42,\n",
    "    shuffle=False,\n",
    "    class_mode=None,\n",
    "    target_size=(32, 32))"
   ]
  },
  {
   "cell_type": "code",
   "execution_count": 4,
   "metadata": {},
   "outputs": [
    {
     "name": "stdout",
     "output_type": "stream",
     "text": [
      "WARNING:tensorflow:From D:\\ProgramData\\Anaconda3\\lib\\site-packages\\tensorflow\\python\\ops\\resource_variable_ops.py:435: colocate_with (from tensorflow.python.framework.ops) is deprecated and will be removed in a future version.\n",
      "Instructions for updating:\n",
      "Colocations handled automatically by placer.\n"
     ]
    }
   ],
   "source": [
    "model = Sequential()\n",
    "model.add(Conv2D(32, (3, 3), padding='same',\n",
    "                 input_shape=(32,32,3)))\n",
    "model.add(Activation('relu'))\n",
    "model.add(Conv2D(32, (3, 3)))\n",
    "model.add(Activation('relu'))\n",
    "model.add(MaxPooling2D(pool_size=(2, 2)))\n",
    "model.add(Dropout(0.25))\n",
    "model.add(Conv2D(64, (3, 3), padding='same'))\n",
    "model.add(Activation('relu'))\n",
    "model.add(Conv2D(64, (3, 3)))\n",
    "model.add(Activation('relu'))\n",
    "model.add(MaxPooling2D(pool_size=(2, 2)))\n",
    "model.add(Dropout(0.25))\n",
    "model.add(Flatten())\n",
    "model.add(Dense(512))\n",
    "model.add(Activation('relu'))\n",
    "model.add(Dropout(0.5))\n",
    "model.add(Dense(10, activation='softmax'))\n",
    "model.compile(optimizers.rmsprop(lr=0.0001, decay=1e-6),loss=\"categorical_crossentropy\",metrics=[\"accuracy\"])"
   ]
  },
  {
   "cell_type": "code",
   "execution_count": 5,
   "metadata": {},
   "outputs": [
    {
     "name": "stdout",
     "output_type": "stream",
     "text": [
      "WARNING:tensorflow:From D:\\ProgramData\\Anaconda3\\lib\\site-packages\\tensorflow\\python\\ops\\math_ops.py:3066: to_int32 (from tensorflow.python.ops.math_ops) is deprecated and will be removed in a future version.\n",
      "Instructions for updating:\n",
      "Use tf.cast instead.\n",
      "Epoch 1/10\n",
      "1171/1171 [==============================] - 43s 36ms/step - loss: 1.9170 - accuracy: 0.2978 - val_loss: 1.8686 - val_accuracy: 0.3962\n",
      "Epoch 2/10\n",
      "1171/1171 [==============================] - 12s 10ms/step - loss: 1.6008 - accuracy: 0.4171 - val_loss: 1.5148 - val_accuracy: 0.4783\n",
      "Epoch 3/10\n",
      "1171/1171 [==============================] - 12s 10ms/step - loss: 1.4576 - accuracy: 0.4750 - val_loss: 0.9220 - val_accuracy: 0.5126\n",
      "Epoch 4/10\n",
      "1171/1171 [==============================] - 12s 10ms/step - loss: 1.3630 - accuracy: 0.5132 - val_loss: 1.1636 - val_accuracy: 0.5554\n",
      "Epoch 5/10\n",
      "1171/1171 [==============================] - 12s 10ms/step - loss: 1.2870 - accuracy: 0.5441 - val_loss: 1.1081 - val_accuracy: 0.5852\n",
      "Epoch 6/10\n",
      "1171/1171 [==============================] - 12s 10ms/step - loss: 1.2200 - accuracy: 0.5690 - val_loss: 1.3614 - val_accuracy: 0.5932\n",
      "Epoch 7/10\n",
      "1171/1171 [==============================] - 12s 10ms/step - loss: 1.1688 - accuracy: 0.5883 - val_loss: 0.8832 - val_accuracy: 0.6224\n",
      "Epoch 8/10\n",
      "1171/1171 [==============================] - 12s 10ms/step - loss: 1.1178 - accuracy: 0.6068 - val_loss: 1.3164 - val_accuracy: 0.6169\n",
      "Epoch 9/10\n",
      "1171/1171 [==============================] - 12s 10ms/step - loss: 1.0694 - accuracy: 0.6271 - val_loss: 1.0204 - val_accuracy: 0.6474\n",
      "Epoch 10/10\n",
      "1171/1171 [==============================] - 12s 10ms/step - loss: 1.0362 - accuracy: 0.6369 - val_loss: 1.0733 - val_accuracy: 0.6626\n"
     ]
    },
    {
     "data": {
      "text/plain": [
       "<keras.callbacks.callbacks.History at 0x2da6c124588>"
      ]
     },
     "execution_count": 5,
     "metadata": {},
     "output_type": "execute_result"
    }
   ],
   "source": [
    "STEP_SIZE_TRAIN=train_generator.n//train_generator.batch_size\n",
    "STEP_SIZE_VALID=valid_generator.n//valid_generator.batch_size\n",
    "STEP_SIZE_TEST=test_generator.n//test_generator.batch_size\n",
    "model.fit_generator(generator=train_generator,\n",
    "                    steps_per_epoch=STEP_SIZE_TRAIN,\n",
    "                    validation_data=valid_generator,\n",
    "                    validation_steps=STEP_SIZE_VALID,\n",
    "                    epochs=10\n",
    ")"
   ]
  },
  {
   "cell_type": "code",
   "execution_count": 6,
   "metadata": {},
   "outputs": [
    {
     "data": {
      "text/plain": [
       "[0.8667998909950256, 0.6626930236816406]"
      ]
     },
     "execution_count": 6,
     "metadata": {},
     "output_type": "execute_result"
    }
   ],
   "source": [
    "model.evaluate_generator(generator=valid_generator,\n",
    "steps=STEP_SIZE_TEST)"
   ]
  },
  {
   "cell_type": "code",
   "execution_count": null,
   "metadata": {},
   "outputs": [],
   "source": []
  }
 ],
 "metadata": {
  "kernelspec": {
   "display_name": "Python 3",
   "language": "python",
   "name": "python3"
  },
  "language_info": {
   "codemirror_mode": {
    "name": "ipython",
    "version": 3
   },
   "file_extension": ".py",
   "mimetype": "text/x-python",
   "name": "python",
   "nbconvert_exporter": "python",
   "pygments_lexer": "ipython3",
   "version": "3.7.4"
  }
 },
 "nbformat": 4,
 "nbformat_minor": 2
}
