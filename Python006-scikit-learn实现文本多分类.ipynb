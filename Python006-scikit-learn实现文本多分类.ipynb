{
 "cells": [
  {
   "cell_type": "markdown",
   "metadata": {},
   "source": [
    "## 简介\n",
    "通过Scikit-Learn实现多类别文本分类"
   ]
  },
  {
   "cell_type": "markdown",
   "metadata": {},
   "source": [
    "原文：https://towardsdatascience.com/multi-class-text-classification-with-scikit-learn-12f1e60e0a9f\n",
    "\n",
    "译文：https://www.jiqizhixin.com/articles/2018-03-05-3\n",
    "\n",
    "数据集：https://www.kaggle.com/sebastienverpile/consumercomplaintsdata\n",
    "\n",
    "\n",
    "该问题是监督式文本分类问题，数据集为产品品投诉文本，一共有18种产品，我们想要解决的就是训练一个分类器，可以将文本自动分类到原本属于的分类。"
   ]
  },
  {
   "cell_type": "markdown",
   "metadata": {},
   "source": [
    "## 数据分析"
   ]
  },
  {
   "cell_type": "code",
   "execution_count": 85,
   "metadata": {},
   "outputs": [
    {
     "data": {
      "text/html": [
       "<div>\n",
       "<style scoped>\n",
       "    .dataframe tbody tr th:only-of-type {\n",
       "        vertical-align: middle;\n",
       "    }\n",
       "\n",
       "    .dataframe tbody tr th {\n",
       "        vertical-align: top;\n",
       "    }\n",
       "\n",
       "    .dataframe thead th {\n",
       "        text-align: right;\n",
       "    }\n",
       "</style>\n",
       "<table border=\"1\" class=\"dataframe\">\n",
       "  <thead>\n",
       "    <tr style=\"text-align: right;\">\n",
       "      <th></th>\n",
       "      <th>Date received</th>\n",
       "      <th>Product</th>\n",
       "      <th>Sub-product</th>\n",
       "      <th>Issue</th>\n",
       "      <th>Sub-issue</th>\n",
       "      <th>Consumer complaint narrative</th>\n",
       "      <th>Company public response</th>\n",
       "      <th>Company</th>\n",
       "      <th>State</th>\n",
       "      <th>ZIP code</th>\n",
       "      <th>Tags</th>\n",
       "      <th>Consumer consent provided?</th>\n",
       "      <th>Submitted via</th>\n",
       "      <th>Date sent to company</th>\n",
       "      <th>Company response to consumer</th>\n",
       "      <th>Timely response?</th>\n",
       "      <th>Consumer disputed?</th>\n",
       "      <th>Complaint ID</th>\n",
       "    </tr>\n",
       "  </thead>\n",
       "  <tbody>\n",
       "    <tr>\n",
       "      <th>0</th>\n",
       "      <td>3/12/2014</td>\n",
       "      <td>Mortgage</td>\n",
       "      <td>Other mortgage</td>\n",
       "      <td>Loan modification,collection,foreclosure</td>\n",
       "      <td>NaN</td>\n",
       "      <td>NaN</td>\n",
       "      <td>NaN</td>\n",
       "      <td>M&amp;T BANK CORPORATION</td>\n",
       "      <td>MI</td>\n",
       "      <td>48382</td>\n",
       "      <td>NaN</td>\n",
       "      <td>NaN</td>\n",
       "      <td>Referral</td>\n",
       "      <td>3/17/2014</td>\n",
       "      <td>Closed with explanation</td>\n",
       "      <td>Yes</td>\n",
       "      <td>No</td>\n",
       "      <td>759217</td>\n",
       "    </tr>\n",
       "    <tr>\n",
       "      <th>1</th>\n",
       "      <td>10/1/2016</td>\n",
       "      <td>Credit reporting</td>\n",
       "      <td>NaN</td>\n",
       "      <td>Incorrect information on credit report</td>\n",
       "      <td>Account status</td>\n",
       "      <td>I have outdated information on my credit repor...</td>\n",
       "      <td>Company has responded to the consumer and the ...</td>\n",
       "      <td>TRANSUNION INTERMEDIATE HOLDINGS, INC.</td>\n",
       "      <td>AL</td>\n",
       "      <td>352XX</td>\n",
       "      <td>NaN</td>\n",
       "      <td>Consent provided</td>\n",
       "      <td>Web</td>\n",
       "      <td>10/5/2016</td>\n",
       "      <td>Closed with explanation</td>\n",
       "      <td>Yes</td>\n",
       "      <td>No</td>\n",
       "      <td>2141773</td>\n",
       "    </tr>\n",
       "    <tr>\n",
       "      <th>2</th>\n",
       "      <td>10/17/2016</td>\n",
       "      <td>Consumer Loan</td>\n",
       "      <td>Vehicle loan</td>\n",
       "      <td>Managing the loan or lease</td>\n",
       "      <td>NaN</td>\n",
       "      <td>I purchased a new car on XXXX XXXX. The car de...</td>\n",
       "      <td>NaN</td>\n",
       "      <td>CITIZENS FINANCIAL GROUP, INC.</td>\n",
       "      <td>PA</td>\n",
       "      <td>177XX</td>\n",
       "      <td>Older American</td>\n",
       "      <td>Consent provided</td>\n",
       "      <td>Web</td>\n",
       "      <td>10/20/2016</td>\n",
       "      <td>Closed with explanation</td>\n",
       "      <td>Yes</td>\n",
       "      <td>No</td>\n",
       "      <td>2163100</td>\n",
       "    </tr>\n",
       "    <tr>\n",
       "      <th>3</th>\n",
       "      <td>6/8/2014</td>\n",
       "      <td>Credit card</td>\n",
       "      <td>NaN</td>\n",
       "      <td>Bankruptcy</td>\n",
       "      <td>NaN</td>\n",
       "      <td>NaN</td>\n",
       "      <td>NaN</td>\n",
       "      <td>AMERICAN EXPRESS COMPANY</td>\n",
       "      <td>ID</td>\n",
       "      <td>83854</td>\n",
       "      <td>Older American</td>\n",
       "      <td>NaN</td>\n",
       "      <td>Web</td>\n",
       "      <td>6/10/2014</td>\n",
       "      <td>Closed with explanation</td>\n",
       "      <td>Yes</td>\n",
       "      <td>Yes</td>\n",
       "      <td>885638</td>\n",
       "    </tr>\n",
       "    <tr>\n",
       "      <th>4</th>\n",
       "      <td>9/13/2014</td>\n",
       "      <td>Debt collection</td>\n",
       "      <td>Credit card</td>\n",
       "      <td>Communication tactics</td>\n",
       "      <td>Frequent or repeated calls</td>\n",
       "      <td>NaN</td>\n",
       "      <td>NaN</td>\n",
       "      <td>CITIBANK, N.A.</td>\n",
       "      <td>VA</td>\n",
       "      <td>23233</td>\n",
       "      <td>NaN</td>\n",
       "      <td>NaN</td>\n",
       "      <td>Web</td>\n",
       "      <td>9/13/2014</td>\n",
       "      <td>Closed with explanation</td>\n",
       "      <td>Yes</td>\n",
       "      <td>Yes</td>\n",
       "      <td>1027760</td>\n",
       "    </tr>\n",
       "  </tbody>\n",
       "</table>\n",
       "</div>"
      ],
      "text/plain": [
       "  Date received           Product     Sub-product  \\\n",
       "0     3/12/2014          Mortgage  Other mortgage   \n",
       "1     10/1/2016  Credit reporting             NaN   \n",
       "2    10/17/2016     Consumer Loan    Vehicle loan   \n",
       "3      6/8/2014       Credit card             NaN   \n",
       "4     9/13/2014   Debt collection     Credit card   \n",
       "\n",
       "                                      Issue                   Sub-issue  \\\n",
       "0  Loan modification,collection,foreclosure                         NaN   \n",
       "1    Incorrect information on credit report              Account status   \n",
       "2                Managing the loan or lease                         NaN   \n",
       "3                                Bankruptcy                         NaN   \n",
       "4                     Communication tactics  Frequent or repeated calls   \n",
       "\n",
       "                        Consumer complaint narrative  \\\n",
       "0                                                NaN   \n",
       "1  I have outdated information on my credit repor...   \n",
       "2  I purchased a new car on XXXX XXXX. The car de...   \n",
       "3                                                NaN   \n",
       "4                                                NaN   \n",
       "\n",
       "                             Company public response  \\\n",
       "0                                                NaN   \n",
       "1  Company has responded to the consumer and the ...   \n",
       "2                                                NaN   \n",
       "3                                                NaN   \n",
       "4                                                NaN   \n",
       "\n",
       "                                  Company State ZIP code            Tags  \\\n",
       "0                    M&T BANK CORPORATION    MI    48382             NaN   \n",
       "1  TRANSUNION INTERMEDIATE HOLDINGS, INC.    AL    352XX             NaN   \n",
       "2          CITIZENS FINANCIAL GROUP, INC.    PA    177XX  Older American   \n",
       "3                AMERICAN EXPRESS COMPANY    ID    83854  Older American   \n",
       "4                          CITIBANK, N.A.    VA    23233             NaN   \n",
       "\n",
       "  Consumer consent provided? Submitted via Date sent to company  \\\n",
       "0                        NaN      Referral            3/17/2014   \n",
       "1           Consent provided           Web            10/5/2016   \n",
       "2           Consent provided           Web           10/20/2016   \n",
       "3                        NaN           Web            6/10/2014   \n",
       "4                        NaN           Web            9/13/2014   \n",
       "\n",
       "  Company response to consumer Timely response? Consumer disputed?  \\\n",
       "0      Closed with explanation              Yes                 No   \n",
       "1      Closed with explanation              Yes                 No   \n",
       "2      Closed with explanation              Yes                 No   \n",
       "3      Closed with explanation              Yes                Yes   \n",
       "4      Closed with explanation              Yes                Yes   \n",
       "\n",
       "   Complaint ID  \n",
       "0        759217  \n",
       "1       2141773  \n",
       "2       2163100  \n",
       "3        885638  \n",
       "4       1027760  "
      ]
     },
     "execution_count": 85,
     "metadata": {},
     "output_type": "execute_result"
    }
   ],
   "source": [
    "import pandas as pd\n",
    "df=pd.read_csv('data/Consumer_Complaints.csv')\n",
    "df.head()"
   ]
  },
  {
   "cell_type": "markdown",
   "metadata": {},
   "source": [
    "输入是：Consumer_complaint_narrative  消费者投诉叙述\n",
    "\n",
    "输出是：Product\t 具体产品类别"
   ]
  },
  {
   "cell_type": "markdown",
   "metadata": {},
   "source": [
    "我们将删除「Consumer_complaint_narrative」栏中的缺失值，并添加一列来将Product编码为整数，创建了几个字典供将来使用。\n",
    "\n",
    "清理完成后的前五行数据："
   ]
  },
  {
   "cell_type": "code",
   "execution_count": 86,
   "metadata": {},
   "outputs": [],
   "source": [
    "from io import StringIO\n",
    "col=['Product','Consumer complaint narrative']\n",
    "df=df[col]\n",
    "df=df[pd.notnull(df['Consumer complaint narrative'])]\n",
    "df.columns=['product','complaint_text']\n",
    "df=df[:10000]\n",
    "df['category_id']=df['product'].factorize()[0]\n",
    "category_id_df = df[['product', 'category_id']].drop_duplicates().sort_values('category_id')\n",
    "category_to_id=dict(category_id_df.values)\n",
    "id_to_category=dict(category_id_df[['category_id','product']].values)"
   ]
  },
  {
   "cell_type": "code",
   "execution_count": 87,
   "metadata": {},
   "outputs": [
    {
     "data": {
      "text/html": [
       "<div>\n",
       "<style scoped>\n",
       "    .dataframe tbody tr th:only-of-type {\n",
       "        vertical-align: middle;\n",
       "    }\n",
       "\n",
       "    .dataframe tbody tr th {\n",
       "        vertical-align: top;\n",
       "    }\n",
       "\n",
       "    .dataframe thead th {\n",
       "        text-align: right;\n",
       "    }\n",
       "</style>\n",
       "<table border=\"1\" class=\"dataframe\">\n",
       "  <thead>\n",
       "    <tr style=\"text-align: right;\">\n",
       "      <th></th>\n",
       "      <th>product</th>\n",
       "      <th>complaint_text</th>\n",
       "      <th>category_id</th>\n",
       "    </tr>\n",
       "  </thead>\n",
       "  <tbody>\n",
       "    <tr>\n",
       "      <th>1</th>\n",
       "      <td>Credit reporting</td>\n",
       "      <td>I have outdated information on my credit repor...</td>\n",
       "      <td>0</td>\n",
       "    </tr>\n",
       "    <tr>\n",
       "      <th>2</th>\n",
       "      <td>Consumer Loan</td>\n",
       "      <td>I purchased a new car on XXXX XXXX. The car de...</td>\n",
       "      <td>1</td>\n",
       "    </tr>\n",
       "    <tr>\n",
       "      <th>7</th>\n",
       "      <td>Credit reporting</td>\n",
       "      <td>An account on my credit report has a mistaken ...</td>\n",
       "      <td>0</td>\n",
       "    </tr>\n",
       "    <tr>\n",
       "      <th>12</th>\n",
       "      <td>Debt collection</td>\n",
       "      <td>This company refuses to provide me verificatio...</td>\n",
       "      <td>2</td>\n",
       "    </tr>\n",
       "    <tr>\n",
       "      <th>16</th>\n",
       "      <td>Debt collection</td>\n",
       "      <td>This complaint is in regards to Square Two Fin...</td>\n",
       "      <td>2</td>\n",
       "    </tr>\n",
       "  </tbody>\n",
       "</table>\n",
       "</div>"
      ],
      "text/plain": [
       "             product                                     complaint_text  \\\n",
       "1   Credit reporting  I have outdated information on my credit repor...   \n",
       "2      Consumer Loan  I purchased a new car on XXXX XXXX. The car de...   \n",
       "7   Credit reporting  An account on my credit report has a mistaken ...   \n",
       "12   Debt collection  This company refuses to provide me verificatio...   \n",
       "16   Debt collection  This complaint is in regards to Square Two Fin...   \n",
       "\n",
       "    category_id  \n",
       "1             0  \n",
       "2             1  \n",
       "7             0  \n",
       "12            2  \n",
       "16            2  "
      ]
     },
     "execution_count": 87,
     "metadata": {},
     "output_type": "execute_result"
    }
   ],
   "source": [
    "df.head()"
   ]
  },
  {
   "cell_type": "code",
   "execution_count": null,
   "metadata": {},
   "outputs": [],
   "source": [
    "\n"
   ]
  },
  {
   "cell_type": "markdown",
   "metadata": {},
   "source": [
    "## 类别不均衡"
   ]
  },
  {
   "cell_type": "code",
   "execution_count": 88,
   "metadata": {
    "scrolled": false
   },
   "outputs": [
    {
     "data": {
      "image/png": "[encoded data removed]",
      "text/plain": [
       "<Figure size 576x432 with 1 Axes>"
      ]
     },
     "metadata": {},
     "output_type": "display_data"
    }
   ],
   "source": [
    "import matplotlib.pyplot as plt\n",
    "fig=plt.figure(figsize=(8,6))\n",
    "df.groupby('product').complaint_text.count().plot(kind='bar',ylim=0)\n",
    "plt.show()"
   ]
  },
  {
   "cell_type": "code",
   "execution_count": 89,
   "metadata": {
    "scrolled": false
   },
   "outputs": [
    {
     "data": {
      "image/png": "[encoded data removed]",
      "text/plain": [
       "<Figure size 432x288 with 1 Axes>"
      ]
     },
     "metadata": {},
     "output_type": "display_data"
    }
   ],
   "source": [
    "df['product'].value_counts().plot(kind='bar')\n",
    "plt.show()"
   ]
  },
  {
   "cell_type": "markdown",
   "metadata": {},
   "source": [
    "我们可以看到，类别数量差别很大。一般情况下，常规算法一般预测的时候会更倾向于数量多的类别，最糟糕的情况是数量少的类别会直接被忽略掉。对于某些情况，如欺诈检测或癌症预测，我们则需要仔细配置我们的模型或人为地平衡数据集，比如欠采样或过采样每个类别。"
   ]
  },
  {
   "cell_type": "markdown",
   "metadata": {},
   "source": [
    "但是，在学习不平衡数据的情况下，我们最感兴趣的是数量多的类别。我们想有一个分类器，能够对多数类提供较高的预测精度，同时对少数类保持合理的准确度。"
   ]
  },
  {
   "cell_type": "markdown",
   "metadata": {},
   "source": [
    "## 文本表示\n",
    "分类器和学习算法不能直接处理原始形式的文本文档，需要将文本数值化转化为向量才可以处理。\n",
    "\n",
    "从文本中提取特征的一种常见方法是使用词袋模型\n",
    "\n",
    "具体来说，对于我们数据集中的每一个关于产品的投诉文本，我们将计算一种被称为词频、反向文档频率的值，其缩写为 tf-idf。我们将使用 sklearn.feature_extraction.text.TfidfVectorizer 为每个消费者投诉叙述文本计算一个 tf-idf 向量。\n",
    "\n",
    "TfidfVectorizer 常用参数：\n",
    "- sublinear_df 设为 True 从而使用频率的对数形式。\n",
    "- min_df 是单词必须存在的最小文档数量。\n",
    "- norm 设为 l2，以确保我们所有特征向量的欧几里德范数为 1。\n",
    "- ngram_range 设为 (1, 2)，表示我们想要考虑 unigrams 和 bigrams。\n",
    "- stop_words 设为 \"english\" 来删除所有常用代词 (\"a\", \"the\", ...) 以减少噪音特征的数量。"
   ]
  },
  {
   "cell_type": "code",
   "execution_count": 90,
   "metadata": {},
   "outputs": [
    {
     "data": {
      "text/plain": [
       "(10000, 26704)"
      ]
     },
     "execution_count": 90,
     "metadata": {},
     "output_type": "execute_result"
    }
   ],
   "source": [
    "from sklearn.feature_extraction.text import TfidfVectorizer\n",
    "tfidf=TfidfVectorizer(sublinear_tf=True,min_df=5,norm='l2',encoding='latin-1',ngram_range=(1,2),stop_words='english')\n",
    "features=tfidf.fit_transform(df.complaint_text).toarray()\n",
    "labels=df.category_id\n",
    "features.shape"
   ]
  },
  {
   "cell_type": "markdown",
   "metadata": {},
   "source": [
    "现在，10000个消费者投诉描述中的每一个由 26704 个特征表达，代表不同的 unigrams 和 bigrams 的 tf-idf 分数。\n",
    "\n",
    "我们可以使用 sklearn.feature_selection.chi2 来查找与每个产品最相关的词语："
   ]
  },
  {
   "cell_type": "code",
   "execution_count": 91,
   "metadata": {
    "scrolled": false
   },
   "outputs": [
    {
     "name": "stdout",
     "output_type": "stream",
     "text": [
      "# 'Bank account or service':\n",
      "(1) Most correlated unigrams:\n",
      ". deposit\n",
      ". overdraft\n",
      "(2) Most correlated bigrams:\n",
      ". overdraft fees\n",
      ". checking account\n",
      "# 'Consumer Loan':\n",
      "(1) Most correlated unigrams:\n",
      ". car\n",
      ". vehicle\n",
      "(2) Most correlated bigrams:\n",
      ". santander consumer\n",
      ". car loan\n",
      "# 'Credit card':\n",
      "(1) Most correlated unigrams:\n",
      ". capital\n",
      ". card\n",
      "(2) Most correlated bigrams:\n",
      ". annual fee\n",
      ". credit card\n",
      "# 'Credit reporting':\n",
      "(1) Most correlated unigrams:\n",
      ". experian\n",
      ". equifax\n",
      "(2) Most correlated bigrams:\n",
      ". trans union\n",
      ". credit report\n",
      "# 'Credit reporting, credit repair services, or other personal consumer reports':\n",
      "(1) Most correlated unigrams:\n",
      ". birth\n",
      ". iam\n",
      "(2) Most correlated bigrams:\n",
      ". birth year\n",
      ". correct date\n",
      "# 'Debt collection':\n",
      "(1) Most correlated unigrams:\n",
      ". collection\n",
      ". debt\n",
      "(2) Most correlated bigrams:\n",
      ". collect debt\n",
      ". collection agency\n",
      "# 'Money transfers':\n",
      "(1) Most correlated unigrams:\n",
      ". paypal\n",
      ". western\n",
      "(2) Most correlated bigrams:\n",
      ". money transfer\n",
      ". western union\n",
      "# 'Mortgage':\n",
      "(1) Most correlated unigrams:\n",
      ". modification\n",
      ". mortgage\n",
      "(2) Most correlated bigrams:\n",
      ". mortgage company\n",
      ". loan modification\n",
      "# 'Other financial service':\n",
      "(1) Most correlated unigrams:\n",
      ". cashing\n",
      ". guard\n",
      "(2) Most correlated bigrams:\n",
      ". loan relief\n",
      ". check cashing\n",
      "# 'Payday loan':\n",
      "(1) Most correlated unigrams:\n",
      ". ace\n",
      ". payday\n",
      "(2) Most correlated bigrams:\n",
      ". took payday\n",
      ". payday loan\n",
      "# 'Prepaid card':\n",
      "(1) Most correlated unigrams:\n",
      ". prepaid\n",
      ". rushcard\n",
      "(2) Most correlated bigrams:\n",
      ". rush card\n",
      ". prepaid card\n",
      "# 'Student loan':\n",
      "(1) Most correlated unigrams:\n",
      ". student\n",
      ". navient\n",
      "(2) Most correlated bigrams:\n",
      ". student loans\n",
      ". student loan\n",
      "# 'Virtual currency':\n",
      "(1) Most correlated unigrams:\n",
      ". tool\n",
      ". trading\n",
      "(2) Most correlated bigrams:\n",
      ". requests assistance\n",
      ". email requests\n"
     ]
    }
   ],
   "source": [
    "from sklearn.feature_selection import chi2\n",
    "import numpy as np\n",
    "N=2\n",
    "for product,category_id in sorted(category_to_id.items()):\n",
    "    features_chi2=chi2(features,labels==category_id)\n",
    "    indices=np.argsort(features_chi2[0])\n",
    "    feature_names = np.array(tfidf.get_feature_names())[indices]\n",
    "    unigrams = [v for v in feature_names if len(v.split(' ')) == 1]\n",
    "    bigrams = [v for v in feature_names if len(v.split(' ')) == 2]\n",
    "    print(\"# '{}':\".format(product))\n",
    "    print(\"(1) Most correlated unigrams:\\n. {}\".format('\\n. '.join(unigrams[-N:])))\n",
    "    print(\"(2) Most correlated bigrams:\\n. {}\".format('\\n. '.join(bigrams[-N:])))"
   ]
  },
  {
   "cell_type": "markdown",
   "metadata": {},
   "source": [
    "## 多类别分类器\n",
    "- 为了训练监督式分类器，我们首先将「消费者投诉叙述」转化为数字向量。我们研究了向量表示，例如 TF-IDF 加权向量。\n",
    "\n",
    "- 有了这个向量表达的文本后，我们可以训练监督式分类器来训练看不到的「消费者投诉叙述」并预测它们的「产品」。\n",
    "\n",
    "在完成上述数据转换之后，现在我们得到了所有的特征，下面我将设计分类器"
   ]
  },
  {
   "cell_type": "markdown",
   "metadata": {},
   "source": [
    "- 朴素贝叶斯分类器"
   ]
  },
  {
   "cell_type": "code",
   "execution_count": 92,
   "metadata": {},
   "outputs": [],
   "source": [
    "from sklearn.model_selection import train_test_split\n",
    "from sklearn.feature_extraction.text import CountVectorizer\n",
    "from sklearn.feature_extraction.text import TfidfTransformer\n",
    "from sklearn.naive_bayes import MultinomialNB"
   ]
  },
  {
   "cell_type": "code",
   "execution_count": 93,
   "metadata": {},
   "outputs": [],
   "source": [
    "X_train,X_test,y_train,y_test=train_test_split(df['complaint_text'],df['product'],random_state=42)\n",
    "count_vect=CountVectorizer()\n",
    "X_train_counts = count_vect.fit_transform(X_train)\n",
    "tfidf_transformer = TfidfTransformer()\n",
    "X_train_tfidf = tfidf_transformer.fit_transform(X_train_counts)\n",
    "clf = MultinomialNB().fit(X_train_tfidf, y_train)"
   ]
  },
  {
   "cell_type": "markdown",
   "metadata": {},
   "source": [
    "分类器拟合训练好之后，我们做一些预测"
   ]
  },
  {
   "cell_type": "code",
   "execution_count": 94,
   "metadata": {},
   "outputs": [
    {
     "name": "stdout",
     "output_type": "stream",
     "text": [
      "['Debt collection']\n"
     ]
    }
   ],
   "source": [
    "print(clf.predict(count_vect.transform([\"This company refuses to provide me verification and validation of debt per my right under the FDCPA. I do not believe this debt is mine.\"])))"
   ]
  },
  {
   "cell_type": "code",
   "execution_count": 95,
   "metadata": {},
   "outputs": [
    {
     "data": {
      "text/html": [
       "<div>\n",
       "<style scoped>\n",
       "    .dataframe tbody tr th:only-of-type {\n",
       "        vertical-align: middle;\n",
       "    }\n",
       "\n",
       "    .dataframe tbody tr th {\n",
       "        vertical-align: top;\n",
       "    }\n",
       "\n",
       "    .dataframe thead th {\n",
       "        text-align: right;\n",
       "    }\n",
       "</style>\n",
       "<table border=\"1\" class=\"dataframe\">\n",
       "  <thead>\n",
       "    <tr style=\"text-align: right;\">\n",
       "      <th></th>\n",
       "      <th>product</th>\n",
       "      <th>complaint_text</th>\n",
       "      <th>category_id</th>\n",
       "    </tr>\n",
       "  </thead>\n",
       "  <tbody>\n",
       "    <tr>\n",
       "      <th>12</th>\n",
       "      <td>Debt collection</td>\n",
       "      <td>This company refuses to provide me verificatio...</td>\n",
       "      <td>2</td>\n",
       "    </tr>\n",
       "  </tbody>\n",
       "</table>\n",
       "</div>"
      ],
      "text/plain": [
       "            product                                     complaint_text  \\\n",
       "12  Debt collection  This company refuses to provide me verificatio...   \n",
       "\n",
       "    category_id  \n",
       "12            2  "
      ]
     },
     "execution_count": 95,
     "metadata": {},
     "output_type": "execute_result"
    }
   ],
   "source": [
    "df[df['complaint_text'] == \"This company refuses to provide me verification and validation of debt per my right under the FDCPA. I do not believe this debt is mine.\"]"
   ]
  },
  {
   "cell_type": "code",
   "execution_count": 96,
   "metadata": {},
   "outputs": [
    {
     "name": "stdout",
     "output_type": "stream",
     "text": [
      "['Credit reporting']\n"
     ]
    }
   ],
   "source": [
    "print(clf.predict(count_vect.transform([\"I am disputing the inaccurate information the Chex-Systems has on my credit report. I initially submitted a police report on XXXX/XXXX/16 and Chex Systems only deleted the items that I mentioned in the letter and not all the items that were actually listed on the police report. In other words they wanted me to say word for word to them what items were fraudulent. The total disregard of the police report and what accounts that it states that are fraudulent. If they just had paid a little closer attention to the police report I would not been in this position now and they would n't have to research once again. I would like the reported information to be removed : XXXX XXXX XXXX\"])))"
   ]
  },
  {
   "cell_type": "code",
   "execution_count": 97,
   "metadata": {},
   "outputs": [
    {
     "data": {
      "text/html": [
       "<div>\n",
       "<style scoped>\n",
       "    .dataframe tbody tr th:only-of-type {\n",
       "        vertical-align: middle;\n",
       "    }\n",
       "\n",
       "    .dataframe tbody tr th {\n",
       "        vertical-align: top;\n",
       "    }\n",
       "\n",
       "    .dataframe thead th {\n",
       "        text-align: right;\n",
       "    }\n",
       "</style>\n",
       "<table border=\"1\" class=\"dataframe\">\n",
       "  <thead>\n",
       "    <tr style=\"text-align: right;\">\n",
       "      <th></th>\n",
       "      <th>product</th>\n",
       "      <th>complaint_text</th>\n",
       "      <th>category_id</th>\n",
       "    </tr>\n",
       "  </thead>\n",
       "  <tbody>\n",
       "    <tr>\n",
       "      <th>61</th>\n",
       "      <td>Credit reporting</td>\n",
       "      <td>I am disputing the inaccurate information the ...</td>\n",
       "      <td>0</td>\n",
       "    </tr>\n",
       "  </tbody>\n",
       "</table>\n",
       "</div>"
      ],
      "text/plain": [
       "             product                                     complaint_text  \\\n",
       "61  Credit reporting  I am disputing the inaccurate information the ...   \n",
       "\n",
       "    category_id  \n",
       "61            0  "
      ]
     },
     "execution_count": 97,
     "metadata": {},
     "output_type": "execute_result"
    }
   ],
   "source": [
    "df[df['complaint_text'] == \"I am disputing the inaccurate information the Chex-Systems has on my credit report. I initially submitted a police report on XXXX/XXXX/16 and Chex Systems only deleted the items that I mentioned in the letter and not all the items that were actually listed on the police report. In other words they wanted me to say word for word to them what items were fraudulent. The total disregard of the police report and what accounts that it states that are fraudulent. If they just had paid a little closer attention to the police report I would not been in this position now and they would n't have to research once again. I would like the reported information to be removed : XXXX XXXX XXXX\"]"
   ]
  },
  {
   "cell_type": "markdown",
   "metadata": {},
   "source": [
    "我们可以看到效果还可以"
   ]
  },
  {
   "cell_type": "markdown",
   "metadata": {},
   "source": [
    "## 模型选择\n",
    "我们现在准备尝试不同的机器学习模型，评估它们的准确性并找出潜在问题的根源。\n",
    "\n",
    "我们将对以下四种模型进行基准测试：\n",
    "\n",
    "- Logistic 回归\n",
    "- （多项式）朴素贝叶斯\n",
    "- 线性支持向量机\n",
    "- 随机森林"
   ]
  },
  {
   "cell_type": "code",
   "execution_count": 98,
   "metadata": {},
   "outputs": [
    {
     "name": "stderr",
     "output_type": "stream",
     "text": [
      "E:\\ProgramData\\Anaconda3\\lib\\site-packages\\sklearn\\model_selection\\_split.py:605: Warning: The least populated class in y has only 1 members, which is too few. The minimum number of members in any class cannot be less than n_splits=5.\n",
      "  % (min_groups, self.n_splits)), Warning)\n",
      "E:\\ProgramData\\Anaconda3\\lib\\site-packages\\sklearn\\model_selection\\_split.py:605: Warning: The least populated class in y has only 1 members, which is too few. The minimum number of members in any class cannot be less than n_splits=5.\n",
      "  % (min_groups, self.n_splits)), Warning)\n",
      "E:\\ProgramData\\Anaconda3\\lib\\site-packages\\sklearn\\model_selection\\_split.py:605: Warning: The least populated class in y has only 1 members, which is too few. The minimum number of members in any class cannot be less than n_splits=5.\n",
      "  % (min_groups, self.n_splits)), Warning)\n",
      "E:\\ProgramData\\Anaconda3\\lib\\site-packages\\sklearn\\model_selection\\_split.py:605: Warning: The least populated class in y has only 1 members, which is too few. The minimum number of members in any class cannot be less than n_splits=5.\n",
      "  % (min_groups, self.n_splits)), Warning)\n"
     ]
    },
    {
     "data": {
      "image/png": "[encoded data removed]",
      "text/plain": [
       "<Figure size 432x288 with 1 Axes>"
      ]
     },
     "metadata": {},
     "output_type": "display_data"
    }
   ],
   "source": [
    "from sklearn.linear_model import LogisticRegression\n",
    "from sklearn.ensemble import RandomForestClassifier\n",
    "from sklearn.svm import LinearSVC\n",
    "from sklearn.model_selection import cross_val_score\n",
    "models = [\n",
    " RandomForestClassifier(n_estimators=200, max_depth=3, random_state=0),\n",
    " LinearSVC(),\n",
    " MultinomialNB(),\n",
    " LogisticRegression(random_state=0),\n",
    "]\n",
    "CV = 5\n",
    "cv_df = pd.DataFrame(index=range(CV * len(models)))\n",
    "entries = []\n",
    "for model in models:\n",
    "    model_name = model.__class__.__name__\n",
    "    accuracies = cross_val_score(model, features, labels, scoring='accuracy', cv=CV)\n",
    "    for fold_idx, accuracy in enumerate(accuracies):\n",
    "        entries.append((model_name, fold_idx, accuracy))\n",
    "    cv_df = pd.DataFrame(entries, columns=['model_name', 'fold_idx', 'accuracy'])\n",
    "import seaborn as sns\n",
    "sns.boxplot(x='model_name', y='accuracy', data=cv_df)\n",
    "sns.stripplot(x='model_name', y='accuracy', data=cv_df, \n",
    "              size=8, jitter=True, edgecolor=\"gray\", linewidth=2)\n",
    "plt.show()"
   ]
  },
  {
   "cell_type": "code",
   "execution_count": 99,
   "metadata": {},
   "outputs": [
    {
     "data": {
      "text/plain": [
       "model_name\n",
       "LinearSVC                 0.837699\n",
       "LogisticRegression        0.814695\n",
       "MultinomialNB             0.707997\n",
       "RandomForestClassifier    0.403287\n",
       "Name: accuracy, dtype: float64"
      ]
     },
     "execution_count": 99,
     "metadata": {},
     "output_type": "execute_result"
    }
   ],
   "source": [
    "cv_df.groupby('model_name').accuracy.mean()"
   ]
  },
  {
   "cell_type": "markdown",
   "metadata": {},
   "source": [
    "## 模型评估"
   ]
  },
  {
   "cell_type": "markdown",
   "metadata": {},
   "source": [
    "继续使用我们的最佳模型（LinearSVC），我们将查看混淆矩阵，并展示预测标签和实际标签之间的差异。"
   ]
  },
  {
   "cell_type": "code",
   "execution_count": 100,
   "metadata": {},
   "outputs": [
    {
     "data": {
      "image/png": "[encoded data removed]",
      "text/plain": [
       "<Figure size 720x720 with 2 Axes>"
      ]
     },
     "metadata": {},
     "output_type": "display_data"
    }
   ],
   "source": [
    "model = LinearSVC()\n",
    "X_train, X_test, y_train, y_test, indices_train, indices_test = train_test_split(features, labels, df.index, test_size=0.33, random_state=0)\n",
    "model.fit(X_train, y_train)\n",
    "y_pred = model.predict(X_test)\n",
    "from sklearn.metrics import confusion_matrix\n",
    "conf_mat = confusion_matrix(y_test, y_pred)\n",
    "fig, ax = plt.subplots(figsize=(10,10))\n",
    "sns.heatmap(conf_mat, annot=True, fmt='d',xticklabels=category_id_df['product'].values, yticklabels=category_id_df['product'].values)\n",
    "plt.ylabel('Actual')\n",
    "plt.xlabel('Predicted')\n",
    "plt.show()"
   ]
  },
  {
   "cell_type": "markdown",
   "metadata": {},
   "source": [
    "正如我们所希望的，绝大多数预测都在对角线（预测标签=实际标签）。然而，仍然存在大量错误分类，看看这些是由什么造成："
   ]
  },
  {
   "cell_type": "code",
   "execution_count": 102,
   "metadata": {
    "scrolled": false
   },
   "outputs": [
    {
     "name": "stdout",
     "output_type": "stream",
     "text": [
      "'Debt collection' predicted as 'Credit reporting' : 39 examples.\n"
     ]
    },
    {
     "data": {
      "text/html": [
       "<div>\n",
       "<style scoped>\n",
       "    .dataframe tbody tr th:only-of-type {\n",
       "        vertical-align: middle;\n",
       "    }\n",
       "\n",
       "    .dataframe tbody tr th {\n",
       "        vertical-align: top;\n",
       "    }\n",
       "\n",
       "    .dataframe thead th {\n",
       "        text-align: right;\n",
       "    }\n",
       "</style>\n",
       "<table border=\"1\" class=\"dataframe\">\n",
       "  <thead>\n",
       "    <tr style=\"text-align: right;\">\n",
       "      <th></th>\n",
       "      <th>product</th>\n",
       "      <th>complaint_text</th>\n",
       "    </tr>\n",
       "  </thead>\n",
       "  <tbody>\n",
       "    <tr>\n",
       "      <th>44328</th>\n",
       "      <td>Debt collection</td>\n",
       "      <td>There is a collation on my XXXX and XXXX repor...</td>\n",
       "    </tr>\n",
       "    <tr>\n",
       "      <th>12119</th>\n",
       "      <td>Debt collection</td>\n",
       "      <td>they are overly charging me for for cleaning. ...</td>\n",
       "    </tr>\n",
       "    <tr>\n",
       "      <th>18054</th>\n",
       "      <td>Debt collection</td>\n",
       "      <td>XXXX Hospital sent my account to Financial Rec...</td>\n",
       "    </tr>\n",
       "    <tr>\n",
       "      <th>35573</th>\n",
       "      <td>Debt collection</td>\n",
       "      <td>Carter-Young INC said I signed a lease in XXXX...</td>\n",
       "    </tr>\n",
       "    <tr>\n",
       "      <th>30902</th>\n",
       "      <td>Debt collection</td>\n",
       "      <td>XXXX XXXX XXXX XXXX XXXX XXXX, XXXX XXXX XXXX,...</td>\n",
       "    </tr>\n",
       "    <tr>\n",
       "      <th>41982</th>\n",
       "      <td>Debt collection</td>\n",
       "      <td>There is an account that is my wife 's only an...</td>\n",
       "    </tr>\n",
       "    <tr>\n",
       "      <th>33755</th>\n",
       "      <td>Debt collection</td>\n",
       "      <td>on XXXX XXXX i was checking my credit report w...</td>\n",
       "    </tr>\n",
       "    <tr>\n",
       "      <th>22988</th>\n",
       "      <td>Debt collection</td>\n",
       "      <td>Inaccurate reporting of a tradeline to all XXX...</td>\n",
       "    </tr>\n",
       "    <tr>\n",
       "      <th>45213</th>\n",
       "      <td>Debt collection</td>\n",
       "      <td>Requested Midwest Service Bureau to not call m...</td>\n",
       "    </tr>\n",
       "    <tr>\n",
       "      <th>35103</th>\n",
       "      <td>Debt collection</td>\n",
       "      <td>Never had services with XXXX.</td>\n",
       "    </tr>\n",
       "    <tr>\n",
       "      <th>23105</th>\n",
       "      <td>Debt collection</td>\n",
       "      <td>I payed this off I on XX/XX/2016 I want this o...</td>\n",
       "    </tr>\n",
       "    <tr>\n",
       "      <th>13760</th>\n",
       "      <td>Debt collection</td>\n",
       "      <td>Please see attached letter from M Leonard And ...</td>\n",
       "    </tr>\n",
       "    <tr>\n",
       "      <th>1016</th>\n",
       "      <td>Debt collection</td>\n",
       "      <td>Pursuant to 15 USC 1692g Sec 809 ( b ) of the ...</td>\n",
       "    </tr>\n",
       "    <tr>\n",
       "      <th>2942</th>\n",
       "      <td>Debt collection</td>\n",
       "      <td>I am receiving harassing and threatening telep...</td>\n",
       "    </tr>\n",
       "    <tr>\n",
       "      <th>43831</th>\n",
       "      <td>Debt collection</td>\n",
       "      <td>I lived in this apartment complex from XX/XX/X...</td>\n",
       "    </tr>\n",
       "    <tr>\n",
       "      <th>11457</th>\n",
       "      <td>Debt collection</td>\n",
       "      <td>On XXXX/17 I payed in full the {$180.00} owed....</td>\n",
       "    </tr>\n",
       "    <tr>\n",
       "      <th>26933</th>\n",
       "      <td>Debt collection</td>\n",
       "      <td>I CONTACT AMERICOLLECT XXXX ON XXXX/XXXX/2017 ...</td>\n",
       "    </tr>\n",
       "    <tr>\n",
       "      <th>5523</th>\n",
       "      <td>Debt collection</td>\n",
       "      <td>they have kept dispute ongoing for more tan 14...</td>\n",
       "    </tr>\n",
       "    <tr>\n",
       "      <th>19673</th>\n",
       "      <td>Debt collection</td>\n",
       "      <td>I recently paid of both debts on my credit acc...</td>\n",
       "    </tr>\n",
       "    <tr>\n",
       "      <th>44309</th>\n",
       "      <td>Debt collection</td>\n",
       "      <td>I have a judgement against my ex husband on XX...</td>\n",
       "    </tr>\n",
       "    <tr>\n",
       "      <th>5267</th>\n",
       "      <td>Debt collection</td>\n",
       "      <td>XXXX XXXX, XXXX ( This letter describes in det...</td>\n",
       "    </tr>\n",
       "    <tr>\n",
       "      <th>8215</th>\n",
       "      <td>Debt collection</td>\n",
       "      <td>WHY THERE COMPANIES OUT THERE THAT HAVE THE SO...</td>\n",
       "    </tr>\n",
       "    <tr>\n",
       "      <th>8484</th>\n",
       "      <td>Debt collection</td>\n",
       "      <td>I have a major issue with a couple items that ...</td>\n",
       "    </tr>\n",
       "    <tr>\n",
       "      <th>39739</th>\n",
       "      <td>Debt collection</td>\n",
       "      <td>THE ISSUE WAS RESOLVED BY THE VIRGINIA CRIMINA...</td>\n",
       "    </tr>\n",
       "    <tr>\n",
       "      <th>4436</th>\n",
       "      <td>Debt collection</td>\n",
       "      <td>someone tried getting credit information and i...</td>\n",
       "    </tr>\n",
       "    <tr>\n",
       "      <th>18287</th>\n",
       "      <td>Debt collection</td>\n",
       "      <td>I was a victim of identity theft fraud and I h...</td>\n",
       "    </tr>\n",
       "    <tr>\n",
       "      <th>9261</th>\n",
       "      <td>Debt collection</td>\n",
       "      <td>CMRE. XXXX. {$65.00}. \\nRequest : Deleted perm...</td>\n",
       "    </tr>\n",
       "    <tr>\n",
       "      <th>14186</th>\n",
       "      <td>Debt collection</td>\n",
       "      <td>Calvery Portfolio purchased account # XXXX fro...</td>\n",
       "    </tr>\n",
       "    <tr>\n",
       "      <th>3854</th>\n",
       "      <td>Debt collection</td>\n",
       "      <td>Certified Services, XXXX XXXX XXXX XXXX, XXXX,...</td>\n",
       "    </tr>\n",
       "    <tr>\n",
       "      <th>18302</th>\n",
       "      <td>Debt collection</td>\n",
       "      <td>Called me at XXXX at night also reporting the ...</td>\n",
       "    </tr>\n",
       "    <tr>\n",
       "      <th>40741</th>\n",
       "      <td>Debt collection</td>\n",
       "      <td>The personal identities of my wife and I, whic...</td>\n",
       "    </tr>\n",
       "    <tr>\n",
       "      <th>44765</th>\n",
       "      <td>Debt collection</td>\n",
       "      <td>There is an item appearing on my credit file u...</td>\n",
       "    </tr>\n",
       "    <tr>\n",
       "      <th>12039</th>\n",
       "      <td>Debt collection</td>\n",
       "      <td>Rubin &amp; Rothman LLC ( R &amp; R ) received default...</td>\n",
       "    </tr>\n",
       "    <tr>\n",
       "      <th>10552</th>\n",
       "      <td>Debt collection</td>\n",
       "      <td>this account is old, and should have been remo...</td>\n",
       "    </tr>\n",
       "    <tr>\n",
       "      <th>10773</th>\n",
       "      <td>Debt collection</td>\n",
       "      <td>palm beach credit adjustments is not my accoun...</td>\n",
       "    </tr>\n",
       "    <tr>\n",
       "      <th>946</th>\n",
       "      <td>Debt collection</td>\n",
       "      <td>Called XXXX verified they sent me a letter ver...</td>\n",
       "    </tr>\n",
       "    <tr>\n",
       "      <th>41360</th>\n",
       "      <td>Debt collection</td>\n",
       "      <td>The credit report is showing last payment date...</td>\n",
       "    </tr>\n",
       "    <tr>\n",
       "      <th>17948</th>\n",
       "      <td>Debt collection</td>\n",
       "      <td>Merchants credit bureau XXXX Georgia is re-agi...</td>\n",
       "    </tr>\n",
       "    <tr>\n",
       "      <th>26896</th>\n",
       "      <td>Debt collection</td>\n",
       "      <td>Gold Key Credit, Inc been reporting the follow...</td>\n",
       "    </tr>\n",
       "  </tbody>\n",
       "</table>\n",
       "</div>"
      ],
      "text/plain": [
       "               product                                     complaint_text\n",
       "44328  Debt collection  There is a collation on my XXXX and XXXX repor...\n",
       "12119  Debt collection  they are overly charging me for for cleaning. ...\n",
       "18054  Debt collection  XXXX Hospital sent my account to Financial Rec...\n",
       "35573  Debt collection  Carter-Young INC said I signed a lease in XXXX...\n",
       "30902  Debt collection  XXXX XXXX XXXX XXXX XXXX XXXX, XXXX XXXX XXXX,...\n",
       "41982  Debt collection  There is an account that is my wife 's only an...\n",
       "33755  Debt collection  on XXXX XXXX i was checking my credit report w...\n",
       "22988  Debt collection  Inaccurate reporting of a tradeline to all XXX...\n",
       "45213  Debt collection  Requested Midwest Service Bureau to not call m...\n",
       "35103  Debt collection                      Never had services with XXXX.\n",
       "23105  Debt collection  I payed this off I on XX/XX/2016 I want this o...\n",
       "13760  Debt collection  Please see attached letter from M Leonard And ...\n",
       "1016   Debt collection  Pursuant to 15 USC 1692g Sec 809 ( b ) of the ...\n",
       "2942   Debt collection  I am receiving harassing and threatening telep...\n",
       "43831  Debt collection  I lived in this apartment complex from XX/XX/X...\n",
       "11457  Debt collection  On XXXX/17 I payed in full the {$180.00} owed....\n",
       "26933  Debt collection  I CONTACT AMERICOLLECT XXXX ON XXXX/XXXX/2017 ...\n",
       "5523   Debt collection  they have kept dispute ongoing for more tan 14...\n",
       "19673  Debt collection  I recently paid of both debts on my credit acc...\n",
       "44309  Debt collection  I have a judgement against my ex husband on XX...\n",
       "5267   Debt collection  XXXX XXXX, XXXX ( This letter describes in det...\n",
       "8215   Debt collection  WHY THERE COMPANIES OUT THERE THAT HAVE THE SO...\n",
       "8484   Debt collection  I have a major issue with a couple items that ...\n",
       "39739  Debt collection  THE ISSUE WAS RESOLVED BY THE VIRGINIA CRIMINA...\n",
       "4436   Debt collection  someone tried getting credit information and i...\n",
       "18287  Debt collection  I was a victim of identity theft fraud and I h...\n",
       "9261   Debt collection  CMRE. XXXX. {$65.00}. \\nRequest : Deleted perm...\n",
       "14186  Debt collection  Calvery Portfolio purchased account # XXXX fro...\n",
       "3854   Debt collection  Certified Services, XXXX XXXX XXXX XXXX, XXXX,...\n",
       "18302  Debt collection  Called me at XXXX at night also reporting the ...\n",
       "40741  Debt collection  The personal identities of my wife and I, whic...\n",
       "44765  Debt collection  There is an item appearing on my credit file u...\n",
       "12039  Debt collection  Rubin & Rothman LLC ( R & R ) received default...\n",
       "10552  Debt collection  this account is old, and should have been remo...\n",
       "10773  Debt collection  palm beach credit adjustments is not my accoun...\n",
       "946    Debt collection  Called XXXX verified they sent me a letter ver...\n",
       "41360  Debt collection  The credit report is showing last payment date...\n",
       "17948  Debt collection  Merchants credit bureau XXXX Georgia is re-agi...\n",
       "26896  Debt collection  Gold Key Credit, Inc been reporting the follow..."
      ]
     },
     "metadata": {},
     "output_type": "display_data"
    },
    {
     "name": "stdout",
     "output_type": "stream",
     "text": [
      "\n",
      "'Credit card' predicted as 'Credit reporting' : 17 examples.\n"
     ]
    },
    {
     "data": {
      "text/html": [
       "<div>\n",
       "<style scoped>\n",
       "    .dataframe tbody tr th:only-of-type {\n",
       "        vertical-align: middle;\n",
       "    }\n",
       "\n",
       "    .dataframe tbody tr th {\n",
       "        vertical-align: top;\n",
       "    }\n",
       "\n",
       "    .dataframe thead th {\n",
       "        text-align: right;\n",
       "    }\n",
       "</style>\n",
       "<table border=\"1\" class=\"dataframe\">\n",
       "  <thead>\n",
       "    <tr style=\"text-align: right;\">\n",
       "      <th></th>\n",
       "      <th>product</th>\n",
       "      <th>complaint_text</th>\n",
       "    </tr>\n",
       "  </thead>\n",
       "  <tbody>\n",
       "    <tr>\n",
       "      <th>21876</th>\n",
       "      <td>Credit card</td>\n",
       "      <td>To whom this may concern I have been applying ...</td>\n",
       "    </tr>\n",
       "    <tr>\n",
       "      <th>23561</th>\n",
       "      <td>Credit card</td>\n",
       "      <td>When signing in with customer service represen...</td>\n",
       "    </tr>\n",
       "    <tr>\n",
       "      <th>23923</th>\n",
       "      <td>Credit card</td>\n",
       "      <td>The Chase account has been reporting on my per...</td>\n",
       "    </tr>\n",
       "    <tr>\n",
       "      <th>42768</th>\n",
       "      <td>Credit card</td>\n",
       "      <td>There is a Capital One account on my credit re...</td>\n",
       "    </tr>\n",
       "    <tr>\n",
       "      <th>37930</th>\n",
       "      <td>Credit card</td>\n",
       "      <td>I recently discovered an unauthorized hard inq...</td>\n",
       "    </tr>\n",
       "    <tr>\n",
       "      <th>7124</th>\n",
       "      <td>Credit card</td>\n",
       "      <td>To whom it may concern : XXXX has charged me f...</td>\n",
       "    </tr>\n",
       "    <tr>\n",
       "      <th>43003</th>\n",
       "      <td>Credit card</td>\n",
       "      <td>Chase added old, outdated information from my ...</td>\n",
       "    </tr>\n",
       "    <tr>\n",
       "      <th>22396</th>\n",
       "      <td>Credit card</td>\n",
       "      <td>To Whom it May Concern, I would like to file a...</td>\n",
       "    </tr>\n",
       "    <tr>\n",
       "      <th>34313</th>\n",
       "      <td>Credit card</td>\n",
       "      <td>This agency is reporting an account on my redi...</td>\n",
       "    </tr>\n",
       "    <tr>\n",
       "      <th>23475</th>\n",
       "      <td>Credit card</td>\n",
       "      <td>Just not my account and showing under my XXXX ...</td>\n",
       "    </tr>\n",
       "    <tr>\n",
       "      <th>35206</th>\n",
       "      <td>Credit card</td>\n",
       "      <td>Tidewater finance has been reporting inaccurat...</td>\n",
       "    </tr>\n",
       "    <tr>\n",
       "      <th>14161</th>\n",
       "      <td>Credit card</td>\n",
       "      <td>I have repeatedly set up my account for autopa...</td>\n",
       "    </tr>\n",
       "    <tr>\n",
       "      <th>22039</th>\n",
       "      <td>Credit card</td>\n",
       "      <td>in XXXX 2015, jcpenny used my credit without m...</td>\n",
       "    </tr>\n",
       "    <tr>\n",
       "      <th>14234</th>\n",
       "      <td>Credit card</td>\n",
       "      <td>Today, I was issued a XXXX that I did not appr...</td>\n",
       "    </tr>\n",
       "    <tr>\n",
       "      <th>13076</th>\n",
       "      <td>Credit card</td>\n",
       "      <td>XXXX mastercard offered 6 months no interest i...</td>\n",
       "    </tr>\n",
       "    <tr>\n",
       "      <th>5256</th>\n",
       "      <td>Credit card</td>\n",
       "      <td>**NEW INFORMATION** DUNNING LETTER DATED XX/XX...</td>\n",
       "    </tr>\n",
       "    <tr>\n",
       "      <th>24493</th>\n",
       "      <td>Credit card</td>\n",
       "      <td>This card issuer is reporting that I had an ac...</td>\n",
       "    </tr>\n",
       "  </tbody>\n",
       "</table>\n",
       "</div>"
      ],
      "text/plain": [
       "           product                                     complaint_text\n",
       "21876  Credit card  To whom this may concern I have been applying ...\n",
       "23561  Credit card  When signing in with customer service represen...\n",
       "23923  Credit card  The Chase account has been reporting on my per...\n",
       "42768  Credit card  There is a Capital One account on my credit re...\n",
       "37930  Credit card  I recently discovered an unauthorized hard inq...\n",
       "7124   Credit card  To whom it may concern : XXXX has charged me f...\n",
       "43003  Credit card  Chase added old, outdated information from my ...\n",
       "22396  Credit card  To Whom it May Concern, I would like to file a...\n",
       "34313  Credit card  This agency is reporting an account on my redi...\n",
       "23475  Credit card  Just not my account and showing under my XXXX ...\n",
       "35206  Credit card  Tidewater finance has been reporting inaccurat...\n",
       "14161  Credit card  I have repeatedly set up my account for autopa...\n",
       "22039  Credit card  in XXXX 2015, jcpenny used my credit without m...\n",
       "14234  Credit card  Today, I was issued a XXXX that I did not appr...\n",
       "13076  Credit card  XXXX mastercard offered 6 months no interest i...\n",
       "5256   Credit card  **NEW INFORMATION** DUNNING LETTER DATED XX/XX...\n",
       "24493  Credit card  This card issuer is reporting that I had an ac..."
      ]
     },
     "metadata": {},
     "output_type": "display_data"
    },
    {
     "name": "stdout",
     "output_type": "stream",
     "text": [
      "\n"
     ]
    },
    {
     "ename": "IndexError",
     "evalue": "index 12 is out of bounds for axis 0 with size 12",
     "output_type": "error",
     "traceback": [
      "\u001b[1;31m---------------------------------------------------------------------------\u001b[0m",
      "\u001b[1;31mIndexError\u001b[0m                                Traceback (most recent call last)",
      "\u001b[1;32m<ipython-input-102-1c4a22e0ab4d>\u001b[0m in \u001b[0;36m<module>\u001b[1;34m()\u001b[0m\n\u001b[0;32m      2\u001b[0m \u001b[1;32mfor\u001b[0m \u001b[0mpredicted\u001b[0m \u001b[1;32min\u001b[0m \u001b[0mcategory_id_df\u001b[0m\u001b[1;33m.\u001b[0m\u001b[0mcategory_id\u001b[0m\u001b[1;33m:\u001b[0m\u001b[1;33m\u001b[0m\u001b[0m\n\u001b[0;32m      3\u001b[0m     \u001b[1;32mfor\u001b[0m \u001b[0mactual\u001b[0m \u001b[1;32min\u001b[0m \u001b[0mcategory_id_df\u001b[0m\u001b[1;33m.\u001b[0m\u001b[0mcategory_id\u001b[0m\u001b[1;33m:\u001b[0m\u001b[1;33m\u001b[0m\u001b[0m\n\u001b[1;32m----> 4\u001b[1;33m         \u001b[1;32mif\u001b[0m \u001b[0mpredicted\u001b[0m \u001b[1;33m!=\u001b[0m \u001b[0mactual\u001b[0m \u001b[1;32mand\u001b[0m \u001b[0mconf_mat\u001b[0m\u001b[1;33m[\u001b[0m\u001b[0mactual\u001b[0m\u001b[1;33m,\u001b[0m \u001b[0mpredicted\u001b[0m\u001b[1;33m]\u001b[0m \u001b[1;33m>=\u001b[0m \u001b[1;36m10\u001b[0m\u001b[1;33m:\u001b[0m\u001b[1;33m\u001b[0m\u001b[0m\n\u001b[0m\u001b[0;32m      5\u001b[0m             \u001b[0mprint\u001b[0m\u001b[1;33m(\u001b[0m\u001b[1;34m\"'{}' predicted as '{}' : {} examples.\"\u001b[0m\u001b[1;33m.\u001b[0m\u001b[0mformat\u001b[0m\u001b[1;33m(\u001b[0m\u001b[0mid_to_category\u001b[0m\u001b[1;33m[\u001b[0m\u001b[0mactual\u001b[0m\u001b[1;33m]\u001b[0m\u001b[1;33m,\u001b[0m \u001b[0mid_to_category\u001b[0m\u001b[1;33m[\u001b[0m\u001b[0mpredicted\u001b[0m\u001b[1;33m]\u001b[0m\u001b[1;33m,\u001b[0m \u001b[0mconf_mat\u001b[0m\u001b[1;33m[\u001b[0m\u001b[0mactual\u001b[0m\u001b[1;33m,\u001b[0m \u001b[0mpredicted\u001b[0m\u001b[1;33m]\u001b[0m\u001b[1;33m)\u001b[0m\u001b[1;33m)\u001b[0m\u001b[1;33m\u001b[0m\u001b[0m\n\u001b[0;32m      6\u001b[0m             \u001b[0mdisplay\u001b[0m\u001b[1;33m(\u001b[0m\u001b[0mdf\u001b[0m\u001b[1;33m.\u001b[0m\u001b[0mloc\u001b[0m\u001b[1;33m[\u001b[0m\u001b[0mindices_test\u001b[0m\u001b[1;33m[\u001b[0m\u001b[1;33m(\u001b[0m\u001b[0my_test\u001b[0m \u001b[1;33m==\u001b[0m \u001b[0mactual\u001b[0m\u001b[1;33m)\u001b[0m \u001b[1;33m&\u001b[0m \u001b[1;33m(\u001b[0m\u001b[0my_pred\u001b[0m \u001b[1;33m==\u001b[0m \u001b[0mpredicted\u001b[0m\u001b[1;33m)\u001b[0m\u001b[1;33m]\u001b[0m\u001b[1;33m]\u001b[0m\u001b[1;33m[\u001b[0m\u001b[1;33m[\u001b[0m\u001b[1;34m'product'\u001b[0m\u001b[1;33m,\u001b[0m \u001b[1;34m'complaint_text'\u001b[0m\u001b[1;33m]\u001b[0m\u001b[1;33m]\u001b[0m\u001b[1;33m)\u001b[0m\u001b[1;33m\u001b[0m\u001b[0m\n",
      "\u001b[1;31mIndexError\u001b[0m: index 12 is out of bounds for axis 0 with size 12"
     ]
    }
   ],
   "source": [
    "from IPython.display import display\n",
    "for predicted in category_id_df.category_id:\n",
    "    for actual in category_id_df.category_id:\n",
    "        if predicted != actual and conf_mat[actual, predicted] >= 10:\n",
    "            print(\"'{}' predicted as '{}' : {} examples.\".format(id_to_category[actual], id_to_category[predicted], conf_mat[actual, predicted]))\n",
    "            display(df.loc[indices_test[(y_test == actual) & (y_pred == predicted)]][['product', 'complaint_text']])\n",
    "            print('')"
   ]
  },
  {
   "cell_type": "code",
   "execution_count": 103,
   "metadata": {},
   "outputs": [
    {
     "name": "stdout",
     "output_type": "stream",
     "text": [
      "# 'Virtual currency':\n",
      "  . Top unigrams:\n",
      "       . bank\n",
      "       . branch\n",
      "  . Top bigrams:\n",
      "       . debit card\n",
      "       . xxxx police\n",
      "# 'Virtual currency':\n",
      "  . Top unigrams:\n",
      "       . car\n",
      "       . vehicle\n",
      "  . Top bigrams:\n",
      "       . got loan\n",
      "       . gm financial\n",
      "# 'Virtual currency':\n",
      "  . Top unigrams:\n",
      "       . card\n",
      "       . discover\n",
      "  . Top bigrams:\n",
      "       . credit card\n",
      "       . minimum payment\n",
      "# 'Virtual currency':\n",
      "  . Top unigrams:\n",
      "       . equifax\n",
      "       . transunion\n",
      "  . Top bigrams:\n",
      "       . xxxx account\n",
      "       . trans union\n",
      "# 'Virtual currency':\n",
      "  . Top unigrams:\n",
      "       . iam\n",
      "       . birth\n",
      "  . Top bigrams:\n",
      "       . correct date\n",
      "       . birth year\n",
      "# 'Virtual currency':\n",
      "  . Top unigrams:\n",
      "       . debt\n",
      "       . collection\n",
      "  . Top bigrams:\n",
      "       . trying collect\n",
      "       . account credit\n",
      "# 'Virtual currency':\n",
      "  . Top unigrams:\n",
      "       . paypal\n",
      "       . transfer\n",
      "  . Top bigrams:\n",
      "       . western union\n",
      "       . money transfer\n",
      "# 'Virtual currency':\n",
      "  . Top unigrams:\n",
      "       . mortgage\n",
      "       . escrow\n",
      "  . Top bigrams:\n",
      "       . mortgage company\n",
      "       . provide xxxx\n",
      "# 'Virtual currency':\n",
      "  . Top unigrams:\n",
      "       . scam\n",
      "       . guard\n",
      "  . Top bigrams:\n",
      "       . check cashing\n",
      "       . cash check\n",
      "# 'Virtual currency':\n",
      "  . Top unigrams:\n",
      "       . payday\n",
      "       . borrowed\n",
      "  . Top bigrams:\n",
      "       . payday loan\n",
      "       . borrowed xxxx\n",
      "# 'Virtual currency':\n",
      "  . Top unigrams:\n",
      "       . rushcard\n",
      "       . prepaid\n",
      "  . Top bigrams:\n",
      "       . prepaid card\n",
      "       . rush card\n",
      "# 'Virtual currency':\n",
      "  . Top unigrams:\n",
      "       . navient\n",
      "       . loans\n",
      "  . Top bigrams:\n",
      "       . student loan\n",
      "       . sallie mae\n",
      "# 'Virtual currency':\n",
      "  . Top unigrams:\n",
      "       . trading\n",
      "       . tool\n",
      "  . Top bigrams:\n",
      "       . email requests\n",
      "       . requests assistance\n"
     ]
    }
   ],
   "source": [
    "model.fit(features, labels)\n",
    "N = 2\n",
    "for Product, category_id in sorted(category_to_id.items()):\n",
    "    indices = np.argsort(model.coef_[category_id])\n",
    "    feature_names = np.array(tfidf.get_feature_names())[indices]\n",
    "    unigrams = [v for v in reversed(feature_names) if len(v.split(' ')) == 1][:N]\n",
    "    bigrams = [v for v in reversed(feature_names) if len(v.split(' ')) == 2][:N]\n",
    "    print(\"# '{}':\".format(product))\n",
    "    print(\"  . Top unigrams:\\n       . {}\".format('\\n       . '.join(unigrams)))\n",
    "    print(\"  . Top bigrams:\\n       . {}\".format('\\n       . '.join(bigrams)))"
   ]
  }
 ],
 "metadata": {
  "kernelspec": {
   "display_name": "Python 3",
   "language": "python",
   "name": "python3"
  },
  "language_info": {
   "codemirror_mode": {
    "name": "ipython",
    "version": 3
   },
   "file_extension": ".py",
   "mimetype": "text/x-python",
   "name": "python",
   "nbconvert_exporter": "python",
   "pygments_lexer": "ipython3",
   "version": "3.6.5"
  }
 },
 "nbformat": 4,
 "nbformat_minor": 2
}
