{
 "cells": [
  {
   "cell_type": "markdown",
   "metadata": {},
   "source": [
    "## RESTful API "
   ]
  },
  {
   "cell_type": "markdown",
   "metadata": {},
   "source": [
    "RESTful API 是一套成熟的互联网应用程序的 API 设计规范。主要用于客户端和服务器之间无状态、统一接口方式的通讯，我们经常访问的网页既是一个典型的客户端和服务器模型，我们在浏览器中所看到的网页是一个客户端，而为它提供内容的是服务器；另外我们手机中的 APP 也是一个客户端，我们在 APP 中看到的图片信息等都是通过服务器来提供的。"
   ]
  },
  {
   "cell_type": "markdown",
   "metadata": {},
   "source": [
    "https://www.jianshu.com/p/6ac1cab17929"
   ]
  },
  {
   "cell_type": "code",
   "execution_count": 8,
   "metadata": {},
   "outputs": [
    {
     "name": "stdout",
     "output_type": "stream",
     "text": [
      " * Serving Flask app \"__main__\" (lazy loading)\n",
      " * Environment: production\n",
      "   WARNING: This is a development server. Do not use it in a production deployment.\n",
      "   Use a production WSGI server instead.\n",
      " * Debug mode: on\n"
     ]
    },
    {
     "name": "stderr",
     "output_type": "stream",
     "text": [
      " * Restarting with windowsapi reloader\n"
     ]
    },
    {
     "ename": "SystemExit",
     "evalue": "1",
     "output_type": "error",
     "traceback": [
      "An exception has occurred, use %tb to see the full traceback.\n",
      "\u001b[1;31mSystemExit\u001b[0m\u001b[1;31m:\u001b[0m 1\n"
     ]
    }
   ],
   "source": [
    "from flask import Flask, abort, request, jsonify\n",
    "\n",
    "app = Flask(__name__)\n",
    "\n",
    "# 测试数据暂时存放\n",
    "tasks = []\n",
    "\n",
    "@app.route('/add_task/', methods=['POST'])\n",
    "def add_task():\n",
    "    if not request.json or 'id' not in request.json or 'info' not in request.json:\n",
    "        abort(400)\n",
    "    task = {\n",
    "        'id': request.json['id'],\n",
    "        'info': request.json['info']\n",
    "    }\n",
    "    tasks.append(task)\n",
    "    return jsonify({'result': 'success'})\n",
    "\n",
    "\n",
    "@app.route('/get_task/', methods=['GET'])\n",
    "def get_task():\n",
    "    if not request.args or 'id' not in request.args:\n",
    "        # 没有指定id则返回全部\n",
    "        return jsonify(tasks)\n",
    "    else:\n",
    "        task_id = request.args['id']\n",
    "        task = filter(lambda t: t['id'] == int(task_id), tasks)\n",
    "        return jsonify(task) if task else jsonify({'result': 'not found'})\n",
    "\n",
    "\n",
    "if __name__ == \"__main__\":\n",
    "    # 将host设置为0.0.0.0，则外网用户也可以访问到这个服务\n",
    "    app.run(host=\"0.0.0.0\", port=8383, debug=True)\n"
   ]
  },
  {
   "cell_type": "code",
   "execution_count": null,
   "metadata": {},
   "outputs": [],
   "source": []
  }
 ],
 "metadata": {
  "kernelspec": {
   "display_name": "Python 3",
   "language": "python",
   "name": "python3"
  },
  "language_info": {
   "codemirror_mode": {
    "name": "ipython",
    "version": 3
   },
   "file_extension": ".py",
   "mimetype": "text/x-python",
   "name": "python",
   "nbconvert_exporter": "python",
   "pygments_lexer": "ipython3",
   "version": "3.6.10"
  }
 },
 "nbformat": 4,
 "nbformat_minor": 4
}
