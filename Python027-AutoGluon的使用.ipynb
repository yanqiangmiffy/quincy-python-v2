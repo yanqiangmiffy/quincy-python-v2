{
 "cells": [
  {
   "cell_type": "code",
   "execution_count": null,
   "metadata": {},
   "outputs": [],
   "source": [
    "# https://github.com/awslabs/autogluon/blob/master/examples/tabular/example_simple_tabular.py"
   ]
  },
  {
   "cell_type": "code",
   "execution_count": 9,
   "metadata": {},
   "outputs": [],
   "source": [
    "from autogluon import TabularPrediction as task"
   ]
  },
  {
   "cell_type": "markdown",
   "metadata": {},
   "source": [
    "## 加载数据集"
   ]
  },
  {
   "cell_type": "code",
   "execution_count": 10,
   "metadata": {},
   "outputs": [
    {
     "name": "stderr",
     "output_type": "stream",
     "text": [
      "Loaded data from: https://autogluon.s3-us-west-2.amazonaws.com/datasets/Inc/train.csv | Columns = 15 / 15 | Rows = 39073 -> 39073\n"
     ]
    }
   ],
   "source": [
    "# Training time:\n",
    "train_data = task.Dataset(file_path='https://autogluon.s3-us-west-2.amazonaws.com/datasets/Inc/train.csv') # can be local CSV file as well, returns Pandas DataFrame\n",
    "train_data = train_data.head(500) # subsample for faster demo"
   ]
  },
  {
   "cell_type": "code",
   "execution_count": 11,
   "metadata": {},
   "outputs": [
    {
     "data": {
      "text/html": [
       "<div>\n",
       "<style scoped>\n",
       "    .dataframe tbody tr th:only-of-type {\n",
       "        vertical-align: middle;\n",
       "    }\n",
       "\n",
       "    .dataframe tbody tr th {\n",
       "        vertical-align: top;\n",
       "    }\n",
       "\n",
       "    .dataframe thead th {\n",
       "        text-align: right;\n",
       "    }\n",
       "</style>\n",
       "<table border=\"1\" class=\"dataframe\">\n",
       "  <thead>\n",
       "    <tr style=\"text-align: right;\">\n",
       "      <th></th>\n",
       "      <th>age</th>\n",
       "      <th>workclass</th>\n",
       "      <th>fnlwgt</th>\n",
       "      <th>education</th>\n",
       "      <th>education-num</th>\n",
       "      <th>marital-status</th>\n",
       "      <th>occupation</th>\n",
       "      <th>relationship</th>\n",
       "      <th>race</th>\n",
       "      <th>sex</th>\n",
       "      <th>capital-gain</th>\n",
       "      <th>capital-loss</th>\n",
       "      <th>hours-per-week</th>\n",
       "      <th>native-country</th>\n",
       "      <th>class</th>\n",
       "    </tr>\n",
       "  </thead>\n",
       "  <tbody>\n",
       "    <tr>\n",
       "      <th>0</th>\n",
       "      <td>25</td>\n",
       "      <td>Private</td>\n",
       "      <td>178478</td>\n",
       "      <td>Bachelors</td>\n",
       "      <td>13</td>\n",
       "      <td>Never-married</td>\n",
       "      <td>Tech-support</td>\n",
       "      <td>Own-child</td>\n",
       "      <td>White</td>\n",
       "      <td>Female</td>\n",
       "      <td>0</td>\n",
       "      <td>0</td>\n",
       "      <td>40</td>\n",
       "      <td>United-States</td>\n",
       "      <td>&lt;=50K</td>\n",
       "    </tr>\n",
       "    <tr>\n",
       "      <th>1</th>\n",
       "      <td>23</td>\n",
       "      <td>State-gov</td>\n",
       "      <td>61743</td>\n",
       "      <td>5th-6th</td>\n",
       "      <td>3</td>\n",
       "      <td>Never-married</td>\n",
       "      <td>Transport-moving</td>\n",
       "      <td>Not-in-family</td>\n",
       "      <td>White</td>\n",
       "      <td>Male</td>\n",
       "      <td>0</td>\n",
       "      <td>0</td>\n",
       "      <td>35</td>\n",
       "      <td>United-States</td>\n",
       "      <td>&lt;=50K</td>\n",
       "    </tr>\n",
       "    <tr>\n",
       "      <th>2</th>\n",
       "      <td>46</td>\n",
       "      <td>Private</td>\n",
       "      <td>376789</td>\n",
       "      <td>HS-grad</td>\n",
       "      <td>9</td>\n",
       "      <td>Never-married</td>\n",
       "      <td>Other-service</td>\n",
       "      <td>Not-in-family</td>\n",
       "      <td>White</td>\n",
       "      <td>Male</td>\n",
       "      <td>0</td>\n",
       "      <td>0</td>\n",
       "      <td>15</td>\n",
       "      <td>United-States</td>\n",
       "      <td>&lt;=50K</td>\n",
       "    </tr>\n",
       "    <tr>\n",
       "      <th>3</th>\n",
       "      <td>55</td>\n",
       "      <td>?</td>\n",
       "      <td>200235</td>\n",
       "      <td>HS-grad</td>\n",
       "      <td>9</td>\n",
       "      <td>Married-civ-spouse</td>\n",
       "      <td>?</td>\n",
       "      <td>Husband</td>\n",
       "      <td>White</td>\n",
       "      <td>Male</td>\n",
       "      <td>0</td>\n",
       "      <td>0</td>\n",
       "      <td>50</td>\n",
       "      <td>United-States</td>\n",
       "      <td>&gt;50K</td>\n",
       "    </tr>\n",
       "    <tr>\n",
       "      <th>4</th>\n",
       "      <td>36</td>\n",
       "      <td>Private</td>\n",
       "      <td>224541</td>\n",
       "      <td>7th-8th</td>\n",
       "      <td>4</td>\n",
       "      <td>Married-civ-spouse</td>\n",
       "      <td>Handlers-cleaners</td>\n",
       "      <td>Husband</td>\n",
       "      <td>White</td>\n",
       "      <td>Male</td>\n",
       "      <td>0</td>\n",
       "      <td>0</td>\n",
       "      <td>40</td>\n",
       "      <td>El-Salvador</td>\n",
       "      <td>&lt;=50K</td>\n",
       "    </tr>\n",
       "  </tbody>\n",
       "</table>\n",
       "</div>"
      ],
      "text/plain": [
       "   age   workclass  fnlwgt   education  education-num       marital-status  \\\n",
       "0   25     Private  178478   Bachelors             13        Never-married   \n",
       "1   23   State-gov   61743     5th-6th              3        Never-married   \n",
       "2   46     Private  376789     HS-grad              9        Never-married   \n",
       "3   55           ?  200235     HS-grad              9   Married-civ-spouse   \n",
       "4   36     Private  224541     7th-8th              4   Married-civ-spouse   \n",
       "\n",
       "           occupation    relationship    race      sex  capital-gain  \\\n",
       "0        Tech-support       Own-child   White   Female             0   \n",
       "1    Transport-moving   Not-in-family   White     Male             0   \n",
       "2       Other-service   Not-in-family   White     Male             0   \n",
       "3                   ?         Husband   White     Male             0   \n",
       "4   Handlers-cleaners         Husband   White     Male             0   \n",
       "\n",
       "   capital-loss  hours-per-week  native-country   class  \n",
       "0             0              40   United-States   <=50K  \n",
       "1             0              35   United-States   <=50K  \n",
       "2             0              15   United-States   <=50K  \n",
       "3             0              50   United-States    >50K  \n",
       "4             0              40     El-Salvador   <=50K  "
      ]
     },
     "execution_count": 11,
     "metadata": {},
     "output_type": "execute_result"
    }
   ],
   "source": [
    "train_data.head()"
   ]
  },
  {
   "cell_type": "code",
   "execution_count": 13,
   "metadata": {},
   "outputs": [
    {
     "name": "stderr",
     "output_type": "stream",
     "text": [
      "Beginning AutoGluon training ...\n",
      "Preprocessing data ...\n",
      "Here are the first 10 unique label values in your data:  [' <=50K' ' >50K']\n",
      "AutoGluon infers your prediction problem is: binary  (because only two unique label-values observed)\n",
      "If this is wrong, please specify `problem_type` argument in fit() instead (You may specify problem_type as one of: ['binary', 'multiclass', 'regression'])\n",
      "\n",
      "Selected class <--> label mapping:  class 1 =  >50K, class 0 =  <=50K\n",
      "\tData preprocessing and feature engineering runtime = 0.11s ...\n",
      "AutoGluon will gauge predictive performance using evaluation metric: accuracy\n",
      "To change this, specify the eval_metric argument of fit()\n",
      "Fitting model: RandomForestClassifierGini ...\n",
      "\t0.54s\t = Training runtime\n",
      "\t0.89\t = Validation accuracy score\n",
      "Fitting model: RandomForestClassifierEntr ...\n",
      "\t0.42s\t = Training runtime\n",
      "\t0.9\t = Validation accuracy score\n",
      "Fitting model: ExtraTreesClassifierGini ...\n",
      "\t0.42s\t = Training runtime\n",
      "\t0.88\t = Validation accuracy score\n",
      "Fitting model: ExtraTreesClassifierEntr ...\n",
      "\t0.42s\t = Training runtime\n",
      "\t0.86\t = Validation accuracy score\n",
      "Fitting model: KNeighborsClassifierUnif ...\n",
      "\t0.01s\t = Training runtime\n",
      "\t0.8\t = Validation accuracy score\n",
      "Fitting model: KNeighborsClassifierDist ...\n",
      "\t0.01s\t = Training runtime\n",
      "\t0.77\t = Validation accuracy score\n",
      "Fitting model: LightGBMClassifier ...\n",
      "\t0.26s\t = Training runtime\n",
      "\t0.88\t = Validation accuracy score\n",
      "Fitting model: CatboostClassifier ...\n",
      "\t1.37s\t = Training runtime\n",
      "\t0.9\t = Validation accuracy score\n",
      "Fitting model: NeuralNetClassifier ...\n",
      "\t7.94s\t = Training runtime\n",
      "\t0.86\t = Validation accuracy score\n",
      "Fitting model: LightGBMClassifierCustom ...\n",
      "\t0.5s\t = Training runtime\n",
      "\t0.89\t = Validation accuracy score\n",
      "Fitting model: weighted_ensemble_l1 ...\n",
      "\t0.46s\t = Training runtime\n",
      "\t0.9\t = Validation accuracy score\n",
      "AutoGluon training complete, total runtime = 14.59s ...\n"
     ]
    },
    {
     "name": "stdout",
     "output_type": "stream",
     "text": [
      "*** Summary of fit() ***\n",
      "Number of models trained: 11\n",
      "Types of models trained: \n",
      "{'LGBModel', 'CatboostModel', 'TabularNeuralNetModel', 'RFModel', 'WeightedEnsembleModel', 'KNNModel'}\n",
      "Validation performance of individual models: {'RandomForestClassifierGini': 0.89, 'RandomForestClassifierEntr': 0.9, 'ExtraTreesClassifierGini': 0.88, 'ExtraTreesClassifierEntr': 0.86, 'KNeighborsClassifierUnif': 0.8, 'KNeighborsClassifierDist': 0.77, 'LightGBMClassifier': 0.88, 'CatboostClassifier': 0.9, 'NeuralNetClassifier': 0.86, 'LightGBMClassifierCustom': 0.89, 'weighted_ensemble_l1': 0.9}\n",
      "Best model (based on validation performance): weighted_ensemble_l1\n",
      "Hyperparameter-tuning used: False\n",
      "Bagging used: False \n",
      "Stack-ensembling used: False \n",
      "User-specified hyperparameters:\n",
      "{'NN': {'num_epochs': 500}, 'GBM': {'num_boost_round': 10000}, 'CAT': {'iterations': 10000}, 'RF': {'n_estimators': 300}, 'XT': {'n_estimators': 300}, 'KNN': {}, 'custom': ['GBM']}\n",
      "Plot summary of models saved to file: SummaryOfModels.html\n",
      "*** End of fit() summary ***\n"
     ]
    }
   ],
   "source": [
    "label_column = 'class' # specifies which column do we want to predict\n",
    "savedir = 'data/ag_models/' # where to save trained models\n",
    "\n",
    "predictor = task.fit(train_data=train_data, label=label_column, output_directory=savedir) # since tuning_data = None, automatically determines train/validation split\n",
    "results = predictor.fit_summary() # display summary of models trained during fit()"
   ]
  },
  {
   "cell_type": "code",
   "execution_count": 14,
   "metadata": {},
   "outputs": [
    {
     "name": "stderr",
     "output_type": "stream",
     "text": [
      "Loaded data from: https://autogluon.s3-us-west-2.amazonaws.com/datasets/Inc/test.csv | Columns = 15 / 15 | Rows = 9769 -> 9769\n",
      "Evaluation: accuracy on test data: 0.824547\n"
     ]
    },
    {
     "name": "stdout",
     "output_type": "stream",
     "text": [
      "   age          workclass  fnlwgt      education  education-num  \\\n",
      "0   31            Private  169085           11th              7   \n",
      "1   17   Self-emp-not-inc  226203           12th              8   \n",
      "2   47            Private   54260      Assoc-voc             11   \n",
      "3   21            Private  176262   Some-college             10   \n",
      "4   17            Private  241185           12th              8   \n",
      "\n",
      "        marital-status        occupation relationship    race      sex  \\\n",
      "0   Married-civ-spouse             Sales         Wife   White   Female   \n",
      "1        Never-married             Sales    Own-child   White     Male   \n",
      "2   Married-civ-spouse   Exec-managerial      Husband   White     Male   \n",
      "3        Never-married   Exec-managerial    Own-child   White   Female   \n",
      "4        Never-married    Prof-specialty    Own-child   White     Male   \n",
      "\n",
      "   capital-gain  capital-loss  hours-per-week  native-country  \n",
      "0             0             0              20   United-States  \n",
      "1             0             0              45   United-States  \n",
      "2             0          1887              60   United-States  \n",
      "3             0             0              30   United-States  \n",
      "4             0             0              20   United-States  \n"
     ]
    },
    {
     "name": "stderr",
     "output_type": "stream",
     "text": [
      "Evaluations on test data:\n",
      "{\n",
      "    \"accuracy\": 0.8245470365441704,\n",
      "    \"accuracy_score\": 0.8245470365441704,\n",
      "    \"balanced_accuracy_score\": 0.7085959299925461,\n",
      "    \"matthews_corrcoef\": 0.47279226180562206,\n",
      "    \"f1_score\": 0.8245470365441704\n",
      "}\n",
      "Detailed (per-class) classification report:\n",
      "{\n",
      "    \" <=50K\": {\n",
      "        \"precision\": 0.8536555295278018,\n",
      "        \"recall\": 0.929271238759898,\n",
      "        \"f1-score\": 0.8898599151779977,\n",
      "        \"support\": 7451\n",
      "    },\n",
      "    \" >50K\": {\n",
      "        \"precision\": 0.6821471652593486,\n",
      "        \"recall\": 0.48792062122519414,\n",
      "        \"f1-score\": 0.5689134808853118,\n",
      "        \"support\": 2318\n",
      "    },\n",
      "    \"accuracy\": 0.8245470365441704,\n",
      "    \"macro avg\": {\n",
      "        \"precision\": 0.7679013473935752,\n",
      "        \"recall\": 0.7085959299925461,\n",
      "        \"f1-score\": 0.7293866980316548,\n",
      "        \"support\": 9769\n",
      "    },\n",
      "    \"weighted avg\": {\n",
      "        \"precision\": 0.8129598197955595,\n",
      "        \"recall\": 0.8245470365441704,\n",
      "        \"f1-score\": 0.8137053615194404,\n",
      "        \"support\": 9769\n",
      "    }\n",
      "}\n"
     ]
    }
   ],
   "source": [
    "# Inference time:\n",
    "test_data = task.Dataset(file_path='https://autogluon.s3-us-west-2.amazonaws.com/datasets/Inc/test.csv') # another Pandas DataFrame\n",
    "y_test = test_data[label_column]\n",
    "test_data = test_data.drop(labels=[label_column],axis=1) # delete labels from test data since we wouldn't have them in practice\n",
    "print(test_data.head())\n",
    "\n",
    "predictor = task.load(savedir) # Unnecessary, we reload predictor just to demonstrate how to load previously-trained predictor from file\n",
    "y_pred = predictor.predict(test_data)\n",
    "perf = predictor.evaluate_predictions(y_true=y_test, y_pred=y_pred, auxiliary_metrics=True)"
   ]
  },
  {
   "cell_type": "code",
   "execution_count": 8,
   "metadata": {},
   "outputs": [
    {
     "data": {
      "text/plain": [
       "array([' <=50K', ' <=50K', ' <=50K', ..., ' <=50K', ' <=50K', ' <=50K'],\n",
       "      dtype=object)"
      ]
     },
     "execution_count": 8,
     "metadata": {},
     "output_type": "execute_result"
    }
   ],
   "source": [
    "y_pred"
   ]
  },
  {
   "cell_type": "code",
   "execution_count": null,
   "metadata": {},
   "outputs": [],
   "source": []
  }
 ],
 "metadata": {
  "kernelspec": {
   "display_name": "Python 3",
   "language": "python",
   "name": "python3"
  },
  "language_info": {
   "codemirror_mode": {
    "name": "ipython",
    "version": 3
   },
   "file_extension": ".py",
   "mimetype": "text/x-python",
   "name": "python",
   "nbconvert_exporter": "python",
   "pygments_lexer": "ipython3",
   "version": "3.7.3"
  }
 },
 "nbformat": 4,
 "nbformat_minor": 2
}
